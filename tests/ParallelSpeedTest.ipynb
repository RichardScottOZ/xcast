{
 "cells": [
  {
   "cell_type": "markdown",
   "id": "bcc62e1c",
   "metadata": {},
   "source": [
    "# Parallelism\n"
   ]
  },
  {
   "cell_type": "code",
   "execution_count": 1,
   "id": "e88c9d90",
   "metadata": {},
   "outputs": [
    {
     "name": "stdout",
     "output_type": "stream",
     "text": [
      "peak memory: 255.30 MiB, increment: 210.28 MiB\n",
      "peak memory: 255.32 MiB, increment: 0.01 MiB\n",
      "peak memory: 267.63 MiB, increment: 2.34 MiB\n",
      "peak memory: 268.01 MiB, increment: 0.38 MiB\n",
      "peak memory: 268.69 MiB, increment: 0.68 MiB\n",
      "peak memory: 269.28 MiB, increment: 0.59 MiB\n",
      "peak memory: 269.30 MiB, increment: 0.02 MiB\n",
      "peak memory: 269.46 MiB, increment: 0.15 MiB\n",
      "peak memory: 269.77 MiB, increment: 0.31 MiB\n",
      "peak memory: 269.83 MiB, increment: 0.07 MiB\n",
      "peak memory: 269.86 MiB, increment: 0.03 MiB\n"
     ]
    }
   ],
   "source": [
    "%load_ext memory_profiler\n",
    "%memit import src as xc    \n",
    "%memit import xarray as xr  \n",
    "from dask.distributed import Client \n",
    "client = Client(n_workers=8, threads_per_worker=2)\n",
    "\n",
    "%memit obs = xr.open_dataset('test_data/cpc_jaso_asia_full.nc', decode_times=False, chunks='auto')\n",
    "%memit cola = xr.open_dataset('test_data/cola_jaso_asia_full.nc', decode_times=False, chunks='auto')\n",
    "%memit cansipsv2 = xr.open_dataset('test_data/cansipsv2_jaso_asia_full.nc', decode_times=False, chunks='auto')\n",
    "%memit cfsv2 = xr.open_dataset('test_data/cfsv2_jaso_asia_full.nc', decode_times=False, chunks='auto')\n",
    "\n",
    "%memit Y = obs.expand_dims({'M':[0]})\n",
    "%memit Y = Y * 3\n",
    "\n",
    "%memit X = xr.concat([cola, cfsv2, cansipsv2], 'M').assign_coords({'M':[0,1,2]})\n",
    "%memit X_TRAIN = X.isel(S=slice(None, -7))\n",
    "%memit X_TEST = X.isel(S=slice(-7, None))"
   ]
  },
  {
   "cell_type": "code",
   "execution_count": 2,
   "id": "52872988",
   "metadata": {},
   "outputs": [
    {
     "name": "stdout",
     "output_type": "stream",
     "text": [
      "peak memory: 269.99 MiB, increment: 0.11 MiB\n",
      "<Client: 'tcp://127.0.0.1:49757' processes=8 threads=16, memory=16.00 GiB>\n",
      "peak memory: 431.79 MiB, increment: 161.79 MiB\n",
      "CPU times: user 6.5 s, sys: 1.08 s, total: 7.58 s\n",
      "Wall time: 40.9 s\n"
     ]
    }
   ],
   "source": [
    "%%time\n",
    "%memit pmlp = xc.ParallelMultiLayerPerceptron(ND=1, max_iter=10, client=client)\n",
    "%memit pmlp.fit(X_TRAIN.prec, Y.prate, x_sample_dim='S', verbose=True, lat_chunks=4, lon_chunks=4)\n"
   ]
  },
  {
   "cell_type": "code",
   "execution_count": 3,
   "id": "c4a6831e",
   "metadata": {},
   "outputs": [
    {
     "name": "stdout",
     "output_type": "stream",
     "text": [
      "Predicting MLPRegressor: 2021-09-15 12:53:00.126786 [*************************]\n",
      "peak memory: 414.27 MiB, increment: 0.03 MiB\n",
      "CPU times: user 3.86 s, sys: 741 ms, total: 4.6 s\n",
      "Wall time: 5.26 s\n"
     ]
    }
   ],
   "source": [
    "%%time\n",
    "%memit parallel_results =  pmlp.predict(X_TRAIN.prec, x_sample_dim='S', verbose=2, lat_chunks=4, lon_chunks=4)"
   ]
  },
  {
   "cell_type": "code",
   "execution_count": 4,
   "id": "81f82046",
   "metadata": {},
   "outputs": [
    {
     "ename": "NameError",
     "evalue": "name 'sizeof' is not defined",
     "output_type": "error",
     "traceback": [
      "\u001b[0;31m---------------------------------------------------------------------------\u001b[0m",
      "\u001b[0;31mNameError\u001b[0m                                 Traceback (most recent call last)",
      "\u001b[0;32m<ipython-input-4-7e5ad36ed70c>\u001b[0m in \u001b[0;36m<module>\u001b[0;34m\u001b[0m\n\u001b[0;32m----> 1\u001b[0;31m \u001b[0msizeof\u001b[0m\u001b[0;34m(\u001b[0m\u001b[0mX_TRAIN\u001b[0m\u001b[0;34m.\u001b[0m\u001b[0mprec\u001b[0m\u001b[0;34m)\u001b[0m\u001b[0;34m\u001b[0m\u001b[0;34m\u001b[0m\u001b[0m\n\u001b[0m\u001b[1;32m      2\u001b[0m \u001b[0;31m#.isel(M=0, S=0).plot()\u001b[0m\u001b[0;34m\u001b[0m\u001b[0;34m\u001b[0m\u001b[0;34m\u001b[0m\u001b[0m\n",
      "\u001b[0;31mNameError\u001b[0m: name 'sizeof' is not defined"
     ]
    }
   ],
   "source": [
    "sizeof(X_TRAIN.prec)\n",
    "#.isel(M=0, S=0).plot()"
   ]
  }
 ],
 "metadata": {
  "kernelspec": {
   "display_name": "base",
   "language": "python",
   "name": "base"
  },
  "language_info": {
   "codemirror_mode": {
    "name": "ipython",
    "version": 3
   },
   "file_extension": ".py",
   "mimetype": "text/x-python",
   "name": "python",
   "nbconvert_exporter": "python",
   "pygments_lexer": "ipython3",
   "version": "3.8.8"
  }
 },
 "nbformat": 4,
 "nbformat_minor": 5
}
