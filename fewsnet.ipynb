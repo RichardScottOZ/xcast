{
 "cells": [
  {
   "cell_type": "code",
   "execution_count": 1,
   "id": "bfad08eb",
   "metadata": {},
   "outputs": [],
   "source": [
    "import cptdl as dl \n",
    "import cptio as io \n",
    "import src as xc \n",
    "import datetime as dt\n",
    "import xarray as xr\n",
    "import cartopy.crs as ccrs\n",
    "import warnings \n",
    "from pathlib import Path\n",
    "import matplotlib.pyplot as plt \n",
    "from dask.distributed import Client \n",
    "from dask.diagnostics import ProgressBar\n",
    "client = None"
   ]
  },
  {
   "cell_type": "markdown",
   "id": "1620e02a",
   "metadata": {},
   "source": [
    "# Settings"
   ]
  },
  {
   "cell_type": "code",
   "execution_count": 2,
   "id": "efcf6502",
   "metadata": {
    "scrolled": true
   },
   "outputs": [],
   "source": [
    "predictor_names = ['SPSv3p5.PRCP', 'SEAS5.PRCP', 'GCFS2p1.PRCP']\n",
    "predictand_name = 'UCSB.PRCP'\n",
    "\n",
    "# use dl.observations.keys() to see all options for predictand \n",
    "# and dl.hindcasts.keys() to see all options for predictors\n",
    "# make sure your first_year & final_year are compatible with \n",
    "# your selections for your predictors and predictands \n",
    "\n",
    "args = { \n",
    "  'fdate': dt.datetime(2022, 5, 1),\n",
    "  'first_year': 1993, \n",
    "  'final_year': 2016, \n",
    "  'predictor_extent': {\n",
    "    'east': 50,\n",
    "    'west': -20, \n",
    "    'north': 45, \n",
    "    'south': -45\n",
    "  }, \n",
    "  'predictand_extent': {\n",
    "    'east': 50,\n",
    "    'west': -20, \n",
    "    'north': 45, \n",
    "    'south': -45\n",
    "  }, \n",
    "  'lead_low': 1.5,\n",
    "  'lead_high': 3.5, \n",
    "  'target': 'Jun-Aug',\n",
    "  'filetype': 'cptv10.tsv'\n",
    "}\n",
    "\n",
    "force_download = True"
   ]
  },
  {
   "cell_type": "markdown",
   "id": "37c4581b",
   "metadata": {},
   "source": [
    "# Data Download"
   ]
  },
  {
   "cell_type": "code",
   "execution_count": null,
   "id": "b87fd661",
   "metadata": {
    "scrolled": true
   },
   "outputs": [
    {
     "name": "stdout",
     "output_type": "stream",
     "text": [
      "URL: https://iridl.ldeo.columbia.edu/SOURCES/.UCSB/.CHIRPS/.v2p0/.daily-improved/.global/.0p25/.prcp/92/mul/T/(1%20Jan%201993)/(31%20Dec%202016)/RANGE/T/%28Jun-Aug%201993-2016%29/seasonalAverage/Y/%28-45%29/%2845%29/RANGEEDGES/X/%28-20%29/%2850%29/RANGEEDGES/-999/setmissing_value/%5BX/Y%5D%5BT%5Dcptv10.tsv\n",
      "\n",
      "DOWNLOADING: [*************************] (34268 KB) 0:00:17.902714\n",
      "URL: https://iridl.ldeo.columbia.edu/SOURCES/.EU/.Copernicus/.CDS/.C3S/.CMCC/.SPSv3p5/.hindcast/.prcp/S/%280000%201%20May%201993-2016%29/VALUES/L/1.5/3.5/RANGEEDGES/%5BL%5D//keepgrids/average/Y/-45/45/RANGEEDGES/X/-20/50/RANGEEDGES/%5BM%5D/average/c%3A/1000/(mm%20m-1)/%3Ac/mul/c%3A/86400/(s%20day-1)/%3Ac/mul/c%3A/92//units/(days)/def/%3Ac/mul/-999/setmissing_value/%5BX/Y%5D%5BL/S/add%5D/cptv10.tsv\n",
      "\n",
      "DOWNLOADING: [*************************] (2161 KB) 0:00:04.898371\n",
      "URL: https://iridl.ldeo.columbia.edu/SOURCES/.EU/.Copernicus/.CDS/.C3S/.ECMWF/.SEAS5/.hindcast/.prcp/S/%280000%201%20May%201993-2016%29/VALUES/L/1.5/3.5/RANGEEDGES/%5BL%5D//keepgrids/average/Y/-45/45/RANGEEDGES/X/-20/50/RANGEEDGES/%5BM%5D/average/c%3A/1000/(mm%20m-1)/%3Ac/mul/c%3A/86400/(s%20day-1)/%3Ac/mul/c%3A/92//units/(days)/def/%3Ac/mul/-999/setmissing_value/%5BX/Y%5D%5BL/S/add%5D/cptv10.tsv\n",
      "\n",
      "DOWNLOADING: [*************************] (2217 KB) 0:00:02.955369\n",
      "URL: https://iridl.ldeo.columbia.edu/SOURCES/.EU/.Copernicus/.CDS/.C3S/.DWD/.GCFS2p1/.hindcast/.prcp/S/%280000%201%20May%201993-2016%29/VALUES/L/1.5/3.5/RANGEEDGES/%5BL%5D//keepgrids/average/Y/-45/45/RANGEEDGES/X/-20/50/RANGEEDGES/%5BM%5D/average/c%3A/1000/(mm%20m-1)/%3Ac/mul/c%3A/86400/(s%20day-1)/%3Ac/mul/c%3A/92//units/(days)/def/%3Ac/mul/-999/setmissing_value/%5BX/Y%5D%5BL/S/add%5D/cptv10.tsv\n",
      "\n",
      "DOWNLOADING: [*********                ] (1892 KB) 0:00:03.220216\r"
     ]
    }
   ],
   "source": [
    "# download predictand\n",
    "if not Path('fewsnet_y_global.nc').is_file() or force_download:\n",
    "    Y = dl.download(dl.observations[predictand_name], predictand_name +'.tsv', **args, verbose=True, use_dlauth=False)\n",
    "    Y = getattr(Y, [i for i in Y.data_vars][0])\n",
    "    Y = Y.expand_dims({'C': [predictand_name]})\n",
    "    Y.to_netcdf('fewsnet_y_global.nc')\n",
    "else:\n",
    "    Y = xr.open_dataset('fewsnet_y_global.nc')\n",
    "    Y = getattr(Y, [i for i in Y.data_vars][0])\n",
    "\n",
    "# download training data \n",
    "if not Path('fewsnet_x_global.nc').is_file() or force_download:\n",
    "    X = [ dl.download(dl.hindcasts[i], i+'.tsv', **args, verbose=True, use_dlauth=False) for i in predictor_names]\n",
    "    X2 = []\n",
    "    for i in X:\n",
    "        i = getattr(i, [j for j in i.data_vars][0])\n",
    "        i = xc.regrid(i.expand_dims({'M': [0]}), Y.coords['X'].values, Y.coords['Y'].values)\n",
    "        X2.append(i)\n",
    "    X = xr.concat(X2, 'M').assign_coords({'M': predictor_names})\n",
    "    X.to_netcdf('fewsnet_x_global.nc')\n",
    "else:\n",
    "    X = xr.open_dataset('fewsnet_x_global.nc')\n",
    "    X = getattr(X, [i for i in X.data_vars][0])\n",
    "\n",
    "# download forecast data\n",
    "if not Path('fewsnet_f_global.nc').is_file() or force_download:\n",
    "    F = [ dl.download(dl.forecasts[i], i+'.tsv', **args, verbose=True, use_dlauth=False) for i in predictor_names]\n",
    "    F2 = []\n",
    "    for i in F:\n",
    "        i = getattr(i, [j for j in i.data_vars][0])\n",
    "        i = xc.regrid(i.expand_dims({'M': [0]}), Y.coords['X'].values, Y.coords['Y'].values)\n",
    "        F2.append(i)\n",
    "    F = xr.concat(F2, 'M').assign_coords({'M': predictor_names})\n",
    "    F.to_netcdf('fewsnet_f_global.nc')\n",
    "else:\n",
    "    F = xr.open_dataset('fewsnet_f_global.nc')\n",
    "    F = getattr(F, [i for i in F.data_vars][0])"
   ]
  },
  {
   "cell_type": "markdown",
   "id": "a8e161b7",
   "metadata": {},
   "source": [
    "# Climatologies & Drymask\n",
    "\n",
    "#### Observed Climatology"
   ]
  },
  {
   "cell_type": "code",
   "execution_count": null,
   "id": "744db340",
   "metadata": {},
   "outputs": [],
   "source": [
    "yplot = Y.mean('T').plot( subplot_kws={'projection': ccrs.PlateCarree()},  cmap='GnBu')\n",
    "coast = yplot.axes.coastlines()"
   ]
  },
  {
   "cell_type": "markdown",
   "id": "07699ab5",
   "metadata": {},
   "source": [
    "#### Model Climatologies"
   ]
  },
  {
   "cell_type": "code",
   "execution_count": null,
   "id": "2bff3b4d",
   "metadata": {},
   "outputs": [],
   "source": [
    "xplot = X.mean('T').plot(col='M', col_wrap=1, subplot_kws={'projection': ccrs.PlateCarree()},  cmap='GnBu', figsize=(14, 2*len(predictor_names)))\n",
    "for ax in xplot.axes.flat:\n",
    "    ax.coastlines()"
   ]
  },
  {
   "cell_type": "markdown",
   "id": "7afaf6ac",
   "metadata": {},
   "source": [
    "#### Dry Mask"
   ]
  },
  {
   "cell_type": "code",
   "execution_count": null,
   "id": "bd122bc2",
   "metadata": {
    "scrolled": false
   },
   "outputs": [],
   "source": [
    "drymask = xc.drymask(Y, quantile_threshold=0.66).assign_coords({'C': [predictand_name]})\n",
    "dplot = drymask.plot(subplot_kws={'projection': ccrs.PlateCarree()})\n",
    "art = dplot.axes.coastlines()"
   ]
  },
  {
   "cell_type": "markdown",
   "id": "8f9ff11c",
   "metadata": {},
   "source": [
    "# Cross Validation"
   ]
  },
  {
   "cell_type": "code",
   "execution_count": null,
   "id": "9ea8530a",
   "metadata": {
    "scrolled": true
   },
   "outputs": [],
   "source": [
    "model_type = xc.cPOELM\n",
    "crossvalidation_window = 1\n",
    "\n",
    "kwargs = {\n",
    "    'ND':5,\n",
    "    'preprocessing':'minmax',\n",
    "    'activation':'sigm',\n",
    "    'hidden_layer_size':5,\n",
    "    'lat_chunks': 5,\n",
    "    'lon_chunks': 5,\n",
    "}\n",
    "\n",
    "if not client:\n",
    "    client = Client()\n",
    "\n",
    "xval = []\n",
    "i = 1\n",
    "start = dt.datetime.now()\n",
    "X, Y = xc.align_chunks(X, Y, 5, 5) \n",
    "for x_train, y_train, x_test, y_test in xc.CrossValidator(X, Y, window=crossvalidation_window):\n",
    "    ohc = xc.RankedTerciles()\n",
    "    ohc.fit(y_train)\n",
    "    ohc_y_train = ohc.transform(y_train)\n",
    "    \n",
    "    model = model_type(**kwargs)\n",
    "    model.fit(x_train, ohc_y_train, rechunk=False)\n",
    "    preds = model.predict_proba(x_test, rechunk=False)\n",
    "    xval.append(preds.isel(T=crossvalidation_window // 2).load())\n",
    "    \n",
    "    print('Finished Fitting Window {} after {}'.format(i, dt.datetime.now() - start))\n",
    "    i+= 1\n",
    "hcst = xr.concat(xval, 'T').mean('ND')\n"
   ]
  },
  {
   "cell_type": "markdown",
   "id": "4d4d685e",
   "metadata": {},
   "source": [
    "# Skill Evaluation\n",
    "#### Calculate skill"
   ]
  },
  {
   "cell_type": "code",
   "execution_count": null,
   "id": "2c297cb1",
   "metadata": {},
   "outputs": [],
   "source": [
    "ohc = xc.RankedTerciles()\n",
    "ohc.fit(Y)\n",
    "T = ohc.transform(Y)\n",
    "\n",
    "rps_fcst = xc.RankProbabilityScore(hcst, T)\n",
    "rps_climo = xc.RankProbabilityScore(xr.ones_like(hcst) *0.333, T)\n",
    "rpss = 1 - ( rps_fcst / rps_climo )\n",
    "\n",
    "groc = xc.GeneralizedROC(hcst, T)\n"
   ]
  },
  {
   "cell_type": "markdown",
   "id": "c1bf54be",
   "metadata": {},
   "source": [
    "#### Plot Skill"
   ]
  },
  {
   "cell_type": "code",
   "execution_count": null,
   "id": "e25cd73c",
   "metadata": {},
   "outputs": [],
   "source": [
    "groc_smooth = xc.gaussian_smooth(groc, kernel=3)\n",
    "rpss_smooth = xc.gaussian_smooth(rpss, kernel=3)\n",
    "\n",
    "cmap = plt.get_cmap('autumn_r').copy()\n",
    "cmap.set_under('lightgray')\n",
    "\n",
    "\n",
    "fig, ax = plt.subplots(nrows=2, ncols=1, figsize=(16, 12), subplot_kw={'projection': ccrs.PlateCarree()})\n",
    "groc_smooth.plot(ax=ax[0], vmin=0.5, vmax=1, cmap=cmap)\n",
    "ax[0].coastlines()\n",
    "t = ax[0].set_title('Generalized ROC')\n",
    "\n",
    "rpss_smooth.plot(ax=ax[1], vmin=0, vmax=0.2, cmap=cmap)\n",
    "ax[1].coastlines()\n",
    "t = ax[1].set_title('Rank Probability Skill Score')\n"
   ]
  },
  {
   "cell_type": "markdown",
   "id": "64747dd7",
   "metadata": {},
   "source": [
    "# Forecasts "
   ]
  },
  {
   "cell_type": "code",
   "execution_count": null,
   "id": "56afbb51",
   "metadata": {},
   "outputs": [],
   "source": [
    "model = model_type(**kwargs)\n",
    "model.fit(X, T)\n",
    "fcst = model.predict_proba(F)\n",
    "xc.view_probabilistic(xc.gaussian_smooth(fcst.mean('ND'), kernel=3).isel(T=0))"
   ]
  },
  {
   "cell_type": "code",
   "execution_count": null,
   "id": "683eb71b",
   "metadata": {},
   "outputs": [],
   "source": []
  }
 ],
 "metadata": {
  "kernelspec": {
   "display_name": "main",
   "language": "python",
   "name": "main"
  },
  "language_info": {
   "codemirror_mode": {
    "name": "ipython",
    "version": 3
   },
   "file_extension": ".py",
   "mimetype": "text/x-python",
   "name": "python",
   "nbconvert_exporter": "python",
   "pygments_lexer": "ipython3",
   "version": "3.10.5"
  }
 },
 "nbformat": 4,
 "nbformat_minor": 5
}
