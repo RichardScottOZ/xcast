{
 "cells": [
  {
   "cell_type": "markdown",
   "metadata": {},
   "source": [
    "# PyMME Tutorial\n",
    "\n",
    "This is an example PyMME script, showing how to use XCast to construct, assess, and compare Multi-Model Ensemble forecasts using different statistical techniques. It also demonstrates Xarray data manipulation. Please refer to the [XCast](https://github.com/kjhall01/xcast/blob/main/XCAST_DOCS.md) and [Xarray](http://xarray.pydata.org/en/stable/) documentation for even more detail on the functions used. \n",
    "\n",
    "\n",
    "### Data Ingestion & Preparation\n",
    "In this first section, we import Xarray and XCast, as well as a plotting utility called PyPlot. We then use Xarray to load our example data from NetCDF files, and to get it into an appropriate format for XCast. For this example, we will make MME forecasts using prepared NCEP-CFSv2, CanSIPSv2, and COLA-RSMAS-CCSM4 precipitation forecasts in NetCDF format as predictors, and CPC-CMAP-URD precipitation as a predictand."
   ]
  },
  {
   "cell_type": "code",
   "execution_count": 1,
   "metadata": {},
   "outputs": [],
   "source": [
    "# importing libraries\n",
    "import src as xc    # This line will become \"import xcast as xc\" once xcast is installed with anaconda\n",
    "import xarray as xr  #import xarray\n",
    "import matplotlib.pyplot as plt  #need this for multi-plotting, for now.\n",
    "import cartopy.crs as ccrs # geomapping library\n",
    "\n",
    "# Opening example datasets:\n",
    "#    - Each dataset is only three-dimensional - sample x lat x lon - so they need to be \n",
    "#      concatenated along a new axis, \"feature,\" which will have the name, \"M\". \n",
    "#    - We use 'decode_times=False' because the NetCDF files' time-coordinates don't adhere \n",
    "#      to the proper standards. Other files won't necessarily require that. \n",
    "obs = xr.open_dataset('test_data/cpc_jaso_asia_full.nc', decode_times=False, chunks='auto')\n",
    "cola = xr.open_dataset('test_data/cola_jaso_asia_full.nc', decode_times=False, chunks='auto')\n",
    "cansipsv2 = xr.open_dataset('test_data/cansipsv2_jaso_asia_full.nc', decode_times=False, chunks='auto')\n",
    "cfsv2 = xr.open_dataset('test_data/cfsv2_jaso_asia_full.nc', decode_times=False, chunks='auto')\n",
    "\n",
    "\n",
    "# Preparing Predictand Dataset:\n",
    "#   - Since \"Obs\" is only 3D, (sample x lat x lon) it needs a fourth, 'feature' dimension\n",
    "#     obs.expand_dims({'M':[0]}) creates a new dimension of size one with the name 'M', \n",
    "#     and assigns it the coordinate 0. \n",
    "#\n",
    "#   - These datasets cover a large geographical range, from Latitude 40:180, and longitude -10:90. \n",
    "#     We will use Y.sel(X=slice(65,95), Y=slice(0,40)) to limit the geographical range to lon 65:95,\n",
    "#     and lat 0:40. \n",
    "Y = obs.expand_dims({'M':[0]})\n",
    "Y = Y.sel(X=slice(65,95), Y=slice(0, 40)) * 3\n",
    "\n",
    "# Preparing Predictor Dataset: \n",
    "#   - Again, since cola, cfsv2, and cansipsv2 all lack 'feature' dimensions (see XCast Dimensionality in the docs)\n",
    "#     we need to create that by concatenating the three datasets along a new dimension called 'M', and assigning it\n",
    "#     coordinates. This is accomplished with xr.concat([cola, cfsv2, cansipsv2], 'M').assign_coords({'M':[0,1,2]})\n",
    "#\n",
    "#   - Next, since our predictor data is available from 1982 to 2021, and our predictand data is available from 1982\n",
    "#     to 2014, we need to truncate our predictor datasets to 2014. XCast requires there be the same number of samples \n",
    "#     in the predictor and predictand datasets. This is accomplished with the X.isel(S=slice(None, -7)), which cuts off \n",
    "#     the last 7 indices of data along the 'S' dimension, which represents samples/years here. \n",
    "X = xr.concat([cola, cfsv2, cansipsv2], 'M').assign_coords({'M':[0,1,2]})\n",
    "X_TRAIN = X.isel(S=slice(None, -7)).sel(X=slice(65,95), Y=slice(0,40))\n",
    "X_TEST = X.isel(S=slice(-7, None))\n",
    "\n",
    "lsmask=xr.open_dataset('southasia_lsmask.nc').dataflag "
   ]
  },
  {
   "cell_type": "code",
   "execution_count": 2,
   "metadata": {},
   "outputs": [],
   "source": [
    "Y2 = lsmask * Y.prate"
   ]
  },
  {
   "cell_type": "markdown",
   "metadata": {},
   "source": [
    "### Cross Validation & Skill\n",
    "In this section, we will use the data we prepared above to cross-validate each method of interest to us. In this tutorial, we will examine hindcasts made with Bias-Corrected Ensemble Mean, Extreme Learning Machine, Random Forest, Multiple Linear Regression, and Multi-Layer Perceptron. We have made some choices for expediency, like limiting MLP's backpropagation algorith to 10 iterations, and using a cross-validation window of 5, so its possible that we could find better skill with more time. \n",
    "\n",
    "ELM, Random Forest, and Multi-Layer Perceptron are non-deterministic methods, meaning that they are randomly initialized, and will give different results each time. For consistency's sake, we will run them each multiple times (ND=10) and take the average. This can also give us a measure of uncertainty (ND-Variation). You can see that the dataset returned by the 'cross_validate' method gives us BOTH hindcasts (hindcast mean), and stddev (hindcast variation).  \n",
    "\n",
    "The 'Gridpoint-Wise' approach can also be hard to interpret spatially, so we will apply 9x9 gaussian smoothing to make things easier to interpret. We will then use the 'smoothed' results to calculate some skill metrics using XCast's 'xc.deterministic_skill' function, which uses XSkillScore's skill metrics. "
   ]
  },
  {
   "cell_type": "code",
   "execution_count": 2,
   "metadata": {},
   "outputs": [],
   "source": [
    "from dask.distributed import Client\n",
    "client = Client()"
   ]
  },
  {
   "cell_type": "code",
   "execution_count": 41,
   "metadata": {},
   "outputs": [
    {
     "name": "stdout",
     "output_type": "stream",
     "text": [
      " CROSSVALIDATING BiasCorrectedEnsembleMean:  2021-09-27 14:26:31.012483 [*************************]\n",
      " CROSSVALIDATING BiasCorrectedEnsembleMean:  2021-09-27 14:26:31.721713 [*************************]\n",
      " CROSSVALIDATING BiasCorrectedEnsembleMean:  2021-09-27 14:26:32.365832 [*************************]\n",
      " CROSSVALIDATING BiasCorrectedEnsembleMean:  2021-09-27 14:26:32.997877 [*************************]\n",
      " CROSSVALIDATING BiasCorrectedEnsembleMean:  2021-09-27 14:26:33.778954 [*************************]\n",
      " CROSSVALIDATING BiasCorrectedEnsembleMean:  2021-09-27 14:26:34.457058 [*************************]\n",
      " CROSSVALIDATING BiasCorrectedEnsembleMean:  2021-09-27 14:26:35.087307 [*************************]\n",
      " CROSSVALIDATING BiasCorrectedEnsembleMean:  2021-09-27 14:26:35.750461 [*************************]\n",
      "675 ms ± 49.4 ms per loop (mean ± std. dev. of 7 runs, 1 loop each)\n"
     ]
    }
   ],
   "source": [
    "%%timeit \n",
    "em = xc.cross_validate(xc.BiasCorrectedEnsembleMean, X_TRAIN.prec, Y2, x_sample_dim='S', verbose=2, window=5, ND=10)\n"
   ]
  },
  {
   "cell_type": "code",
   "execution_count": 49,
   "metadata": {},
   "outputs": [
    {
     "name": "stdout",
     "output_type": "stream",
     "text": [
      " CROSSVALIDATING ExtremeLearningMachine:  2021-09-27 14:50:20.962638 [*************************]\n",
      " CROSSVALIDATING ExtremeLearningMachine:  2021-09-27 14:50:57.583372 [*************************]\n",
      " CROSSVALIDATING ExtremeLearningMachine:  2021-09-27 14:51:35.996198 [*************************]\n",
      " CROSSVALIDATING ExtremeLearningMachine:  2021-09-27 14:52:08.148632 [*************************]\n",
      " CROSSVALIDATING ExtremeLearningMachine:  2021-09-27 14:52:36.723944 [*************************]\n",
      " CROSSVALIDATING ExtremeLearningMachine:  2021-09-27 14:53:05.566805 [*************************]\n",
      " CROSSVALIDATING ExtremeLearningMachine:  2021-09-27 14:53:34.968103 [*************************]\n",
      " CROSSVALIDATING ExtremeLearningMachine:  2021-09-27 14:54:03.920308 [*************************]\n",
      "31.9 s ± 3.78 s per loop (mean ± std. dev. of 7 runs, 1 loop each)\n"
     ]
    }
   ],
   "source": [
    "%%timeit \n",
    "elm = xc.cross_validate(xc.ExtremeLearningMachine, X_TRAIN.prec, Y.prate, x_sample_dim='S', verbose=2, window=5, ND=10, lat_chunks=1, lon_chunks=1, hidden_layer_size=5, parallel_in_memory=True)\n"
   ]
  },
  {
   "cell_type": "code",
   "execution_count": 50,
   "metadata": {},
   "outputs": [
    {
     "name": "stdout",
     "output_type": "stream",
     "text": [
      " CROSSVALIDATING ExtremeLearningMachine:  2021-09-27 14:54:45.453523 [*************************]\n",
      " CROSSVALIDATING ExtremeLearningMachine:  2021-09-27 14:55:21.994521 [*************************]\n",
      " CROSSVALIDATING ExtremeLearningMachine:  2021-09-27 14:55:58.671457 [*************************]\n",
      " CROSSVALIDATING ExtremeLearningMachine:  2021-09-27 14:56:30.167838 [*********************    ]\r"
     ]
    },
    {
     "ename": "KeyboardInterrupt",
     "evalue": "",
     "output_type": "error",
     "traceback": [
      "\u001b[0;31m---------------------------------------------------------------------------\u001b[0m",
      "\u001b[0;31mKeyboardInterrupt\u001b[0m                         Traceback (most recent call last)",
      "\u001b[0;32m<ipython-input-50-412de6eb9886>\u001b[0m in \u001b[0;36m<module>\u001b[0;34m\u001b[0m\n\u001b[0;32m----> 1\u001b[0;31m \u001b[0mget_ipython\u001b[0m\u001b[0;34m(\u001b[0m\u001b[0;34m)\u001b[0m\u001b[0;34m.\u001b[0m\u001b[0mrun_cell_magic\u001b[0m\u001b[0;34m(\u001b[0m\u001b[0;34m'timeit'\u001b[0m\u001b[0;34m,\u001b[0m \u001b[0;34m''\u001b[0m\u001b[0;34m,\u001b[0m \u001b[0;34m\"elm = xc.cross_validate(xc.ExtremeLearningMachine, X_TRAIN.prec, Y.prate, x_sample_dim='S', verbose=2, window=5, ND=10, lat_chunks=4, lon_chunks=4, hidden_layer_size=5, parallel_in_memory=False)\\n\"\u001b[0m\u001b[0;34m)\u001b[0m\u001b[0;34m\u001b[0m\u001b[0;34m\u001b[0m\u001b[0m\n\u001b[0m",
      "\u001b[0;32m~/opt/anaconda3/lib/python3.8/site-packages/IPython/core/interactiveshell.py\u001b[0m in \u001b[0;36mrun_cell_magic\u001b[0;34m(self, magic_name, line, cell)\u001b[0m\n\u001b[1;32m   2397\u001b[0m             \u001b[0;32mwith\u001b[0m \u001b[0mself\u001b[0m\u001b[0;34m.\u001b[0m\u001b[0mbuiltin_trap\u001b[0m\u001b[0;34m:\u001b[0m\u001b[0;34m\u001b[0m\u001b[0;34m\u001b[0m\u001b[0m\n\u001b[1;32m   2398\u001b[0m                 \u001b[0margs\u001b[0m \u001b[0;34m=\u001b[0m \u001b[0;34m(\u001b[0m\u001b[0mmagic_arg_s\u001b[0m\u001b[0;34m,\u001b[0m \u001b[0mcell\u001b[0m\u001b[0;34m)\u001b[0m\u001b[0;34m\u001b[0m\u001b[0;34m\u001b[0m\u001b[0m\n\u001b[0;32m-> 2399\u001b[0;31m                 \u001b[0mresult\u001b[0m \u001b[0;34m=\u001b[0m \u001b[0mfn\u001b[0m\u001b[0;34m(\u001b[0m\u001b[0;34m*\u001b[0m\u001b[0margs\u001b[0m\u001b[0;34m,\u001b[0m \u001b[0;34m**\u001b[0m\u001b[0mkwargs\u001b[0m\u001b[0;34m)\u001b[0m\u001b[0;34m\u001b[0m\u001b[0;34m\u001b[0m\u001b[0m\n\u001b[0m\u001b[1;32m   2400\u001b[0m             \u001b[0;32mreturn\u001b[0m \u001b[0mresult\u001b[0m\u001b[0;34m\u001b[0m\u001b[0;34m\u001b[0m\u001b[0m\n\u001b[1;32m   2401\u001b[0m \u001b[0;34m\u001b[0m\u001b[0m\n",
      "\u001b[0;32m~/opt/anaconda3/lib/python3.8/site-packages/decorator.py\u001b[0m in \u001b[0;36mfun\u001b[0;34m(*args, **kw)\u001b[0m\n\u001b[1;32m    229\u001b[0m             \u001b[0;32mif\u001b[0m \u001b[0;32mnot\u001b[0m \u001b[0mkwsyntax\u001b[0m\u001b[0;34m:\u001b[0m\u001b[0;34m\u001b[0m\u001b[0;34m\u001b[0m\u001b[0m\n\u001b[1;32m    230\u001b[0m                 \u001b[0margs\u001b[0m\u001b[0;34m,\u001b[0m \u001b[0mkw\u001b[0m \u001b[0;34m=\u001b[0m \u001b[0mfix\u001b[0m\u001b[0;34m(\u001b[0m\u001b[0margs\u001b[0m\u001b[0;34m,\u001b[0m \u001b[0mkw\u001b[0m\u001b[0;34m,\u001b[0m \u001b[0msig\u001b[0m\u001b[0;34m)\u001b[0m\u001b[0;34m\u001b[0m\u001b[0;34m\u001b[0m\u001b[0m\n\u001b[0;32m--> 231\u001b[0;31m             \u001b[0;32mreturn\u001b[0m \u001b[0mcaller\u001b[0m\u001b[0;34m(\u001b[0m\u001b[0mfunc\u001b[0m\u001b[0;34m,\u001b[0m \u001b[0;34m*\u001b[0m\u001b[0;34m(\u001b[0m\u001b[0mextras\u001b[0m \u001b[0;34m+\u001b[0m \u001b[0margs\u001b[0m\u001b[0;34m)\u001b[0m\u001b[0;34m,\u001b[0m \u001b[0;34m**\u001b[0m\u001b[0mkw\u001b[0m\u001b[0;34m)\u001b[0m\u001b[0;34m\u001b[0m\u001b[0;34m\u001b[0m\u001b[0m\n\u001b[0m\u001b[1;32m    232\u001b[0m     \u001b[0mfun\u001b[0m\u001b[0;34m.\u001b[0m\u001b[0m__name__\u001b[0m \u001b[0;34m=\u001b[0m \u001b[0mfunc\u001b[0m\u001b[0;34m.\u001b[0m\u001b[0m__name__\u001b[0m\u001b[0;34m\u001b[0m\u001b[0;34m\u001b[0m\u001b[0m\n\u001b[1;32m    233\u001b[0m     \u001b[0mfun\u001b[0m\u001b[0;34m.\u001b[0m\u001b[0m__doc__\u001b[0m \u001b[0;34m=\u001b[0m \u001b[0mfunc\u001b[0m\u001b[0;34m.\u001b[0m\u001b[0m__doc__\u001b[0m\u001b[0;34m\u001b[0m\u001b[0;34m\u001b[0m\u001b[0m\n",
      "\u001b[0;32m~/opt/anaconda3/lib/python3.8/site-packages/IPython/core/magic.py\u001b[0m in \u001b[0;36m<lambda>\u001b[0;34m(f, *a, **k)\u001b[0m\n\u001b[1;32m    185\u001b[0m     \u001b[0;31m# but it's overkill for just that one bit of state.\u001b[0m\u001b[0;34m\u001b[0m\u001b[0;34m\u001b[0m\u001b[0;34m\u001b[0m\u001b[0m\n\u001b[1;32m    186\u001b[0m     \u001b[0;32mdef\u001b[0m \u001b[0mmagic_deco\u001b[0m\u001b[0;34m(\u001b[0m\u001b[0marg\u001b[0m\u001b[0;34m)\u001b[0m\u001b[0;34m:\u001b[0m\u001b[0;34m\u001b[0m\u001b[0;34m\u001b[0m\u001b[0m\n\u001b[0;32m--> 187\u001b[0;31m         \u001b[0mcall\u001b[0m \u001b[0;34m=\u001b[0m \u001b[0;32mlambda\u001b[0m \u001b[0mf\u001b[0m\u001b[0;34m,\u001b[0m \u001b[0;34m*\u001b[0m\u001b[0ma\u001b[0m\u001b[0;34m,\u001b[0m \u001b[0;34m**\u001b[0m\u001b[0mk\u001b[0m\u001b[0;34m:\u001b[0m \u001b[0mf\u001b[0m\u001b[0;34m(\u001b[0m\u001b[0;34m*\u001b[0m\u001b[0ma\u001b[0m\u001b[0;34m,\u001b[0m \u001b[0;34m**\u001b[0m\u001b[0mk\u001b[0m\u001b[0;34m)\u001b[0m\u001b[0;34m\u001b[0m\u001b[0;34m\u001b[0m\u001b[0m\n\u001b[0m\u001b[1;32m    188\u001b[0m \u001b[0;34m\u001b[0m\u001b[0m\n\u001b[1;32m    189\u001b[0m         \u001b[0;32mif\u001b[0m \u001b[0mcallable\u001b[0m\u001b[0;34m(\u001b[0m\u001b[0marg\u001b[0m\u001b[0;34m)\u001b[0m\u001b[0;34m:\u001b[0m\u001b[0;34m\u001b[0m\u001b[0;34m\u001b[0m\u001b[0m\n",
      "\u001b[0;32m~/opt/anaconda3/lib/python3.8/site-packages/IPython/core/magics/execution.py\u001b[0m in \u001b[0;36mtimeit\u001b[0;34m(self, line, cell, local_ns)\u001b[0m\n\u001b[1;32m   1171\u001b[0m                     \u001b[0;32mbreak\u001b[0m\u001b[0;34m\u001b[0m\u001b[0;34m\u001b[0m\u001b[0m\n\u001b[1;32m   1172\u001b[0m \u001b[0;34m\u001b[0m\u001b[0m\n\u001b[0;32m-> 1173\u001b[0;31m         \u001b[0mall_runs\u001b[0m \u001b[0;34m=\u001b[0m \u001b[0mtimer\u001b[0m\u001b[0;34m.\u001b[0m\u001b[0mrepeat\u001b[0m\u001b[0;34m(\u001b[0m\u001b[0mrepeat\u001b[0m\u001b[0;34m,\u001b[0m \u001b[0mnumber\u001b[0m\u001b[0;34m)\u001b[0m\u001b[0;34m\u001b[0m\u001b[0;34m\u001b[0m\u001b[0m\n\u001b[0m\u001b[1;32m   1174\u001b[0m         \u001b[0mbest\u001b[0m \u001b[0;34m=\u001b[0m \u001b[0mmin\u001b[0m\u001b[0;34m(\u001b[0m\u001b[0mall_runs\u001b[0m\u001b[0;34m)\u001b[0m \u001b[0;34m/\u001b[0m \u001b[0mnumber\u001b[0m\u001b[0;34m\u001b[0m\u001b[0;34m\u001b[0m\u001b[0m\n\u001b[1;32m   1175\u001b[0m         \u001b[0mworst\u001b[0m \u001b[0;34m=\u001b[0m \u001b[0mmax\u001b[0m\u001b[0;34m(\u001b[0m\u001b[0mall_runs\u001b[0m\u001b[0;34m)\u001b[0m \u001b[0;34m/\u001b[0m \u001b[0mnumber\u001b[0m\u001b[0;34m\u001b[0m\u001b[0;34m\u001b[0m\u001b[0m\n",
      "\u001b[0;32m~/opt/anaconda3/lib/python3.8/timeit.py\u001b[0m in \u001b[0;36mrepeat\u001b[0;34m(self, repeat, number)\u001b[0m\n\u001b[1;32m    203\u001b[0m         \u001b[0mr\u001b[0m \u001b[0;34m=\u001b[0m \u001b[0;34m[\u001b[0m\u001b[0;34m]\u001b[0m\u001b[0;34m\u001b[0m\u001b[0;34m\u001b[0m\u001b[0m\n\u001b[1;32m    204\u001b[0m         \u001b[0;32mfor\u001b[0m \u001b[0mi\u001b[0m \u001b[0;32min\u001b[0m \u001b[0mrange\u001b[0m\u001b[0;34m(\u001b[0m\u001b[0mrepeat\u001b[0m\u001b[0;34m)\u001b[0m\u001b[0;34m:\u001b[0m\u001b[0;34m\u001b[0m\u001b[0;34m\u001b[0m\u001b[0m\n\u001b[0;32m--> 205\u001b[0;31m             \u001b[0mt\u001b[0m \u001b[0;34m=\u001b[0m \u001b[0mself\u001b[0m\u001b[0;34m.\u001b[0m\u001b[0mtimeit\u001b[0m\u001b[0;34m(\u001b[0m\u001b[0mnumber\u001b[0m\u001b[0;34m)\u001b[0m\u001b[0;34m\u001b[0m\u001b[0;34m\u001b[0m\u001b[0m\n\u001b[0m\u001b[1;32m    206\u001b[0m             \u001b[0mr\u001b[0m\u001b[0;34m.\u001b[0m\u001b[0mappend\u001b[0m\u001b[0;34m(\u001b[0m\u001b[0mt\u001b[0m\u001b[0;34m)\u001b[0m\u001b[0;34m\u001b[0m\u001b[0;34m\u001b[0m\u001b[0m\n\u001b[1;32m    207\u001b[0m         \u001b[0;32mreturn\u001b[0m \u001b[0mr\u001b[0m\u001b[0;34m\u001b[0m\u001b[0;34m\u001b[0m\u001b[0m\n",
      "\u001b[0;32m~/opt/anaconda3/lib/python3.8/site-packages/IPython/core/magics/execution.py\u001b[0m in \u001b[0;36mtimeit\u001b[0;34m(self, number)\u001b[0m\n\u001b[1;32m    167\u001b[0m         \u001b[0mgc\u001b[0m\u001b[0;34m.\u001b[0m\u001b[0mdisable\u001b[0m\u001b[0;34m(\u001b[0m\u001b[0;34m)\u001b[0m\u001b[0;34m\u001b[0m\u001b[0;34m\u001b[0m\u001b[0m\n\u001b[1;32m    168\u001b[0m         \u001b[0;32mtry\u001b[0m\u001b[0;34m:\u001b[0m\u001b[0;34m\u001b[0m\u001b[0;34m\u001b[0m\u001b[0m\n\u001b[0;32m--> 169\u001b[0;31m             \u001b[0mtiming\u001b[0m \u001b[0;34m=\u001b[0m \u001b[0mself\u001b[0m\u001b[0;34m.\u001b[0m\u001b[0minner\u001b[0m\u001b[0;34m(\u001b[0m\u001b[0mit\u001b[0m\u001b[0;34m,\u001b[0m \u001b[0mself\u001b[0m\u001b[0;34m.\u001b[0m\u001b[0mtimer\u001b[0m\u001b[0;34m)\u001b[0m\u001b[0;34m\u001b[0m\u001b[0;34m\u001b[0m\u001b[0m\n\u001b[0m\u001b[1;32m    170\u001b[0m         \u001b[0;32mfinally\u001b[0m\u001b[0;34m:\u001b[0m\u001b[0;34m\u001b[0m\u001b[0;34m\u001b[0m\u001b[0m\n\u001b[1;32m    171\u001b[0m             \u001b[0;32mif\u001b[0m \u001b[0mgcold\u001b[0m\u001b[0;34m:\u001b[0m\u001b[0;34m\u001b[0m\u001b[0;34m\u001b[0m\u001b[0m\n",
      "\u001b[0;32m<magic-timeit>\u001b[0m in \u001b[0;36minner\u001b[0;34m(_it, _timer)\u001b[0m\n",
      "\u001b[0;32m~/Projects/xcast/src/validation/base_validation.py\u001b[0m in \u001b[0;36mcross_validate\u001b[0;34m(MME, X, Y, x_lat_dim, x_lon_dim, x_sample_dim, x_feature_dim, y_lat_dim, y_lon_dim, y_sample_dim, y_feature_dim, window, verbose, ND, lat_chunks, lon_chunks, parallel_in_memory, **kwargs)\u001b[0m\n\u001b[1;32m     25\u001b[0m         \u001b[0;32mwhile\u001b[0m \u001b[0mx_train\u001b[0m \u001b[0;32mis\u001b[0m \u001b[0;32mnot\u001b[0m \u001b[0;32mNone\u001b[0m \u001b[0;32mand\u001b[0m \u001b[0my_train\u001b[0m \u001b[0;32mis\u001b[0m \u001b[0;32mnot\u001b[0m \u001b[0;32mNone\u001b[0m \u001b[0;32mand\u001b[0m \u001b[0mx_test\u001b[0m \u001b[0;32mis\u001b[0m \u001b[0;32mnot\u001b[0m \u001b[0;32mNone\u001b[0m \u001b[0;32mand\u001b[0m \u001b[0my_test\u001b[0m \u001b[0;32mis\u001b[0m \u001b[0;32mnot\u001b[0m \u001b[0;32mNone\u001b[0m\u001b[0;34m:\u001b[0m\u001b[0;34m\u001b[0m\u001b[0;34m\u001b[0m\u001b[0m\n\u001b[1;32m     26\u001b[0m                 \u001b[0mmme\u001b[0m  \u001b[0;34m=\u001b[0m \u001b[0mMME\u001b[0m\u001b[0;34m(\u001b[0m\u001b[0;34m**\u001b[0m\u001b[0mkwargs\u001b[0m\u001b[0;34m)\u001b[0m\u001b[0;34m\u001b[0m\u001b[0;34m\u001b[0m\u001b[0m\n\u001b[0;32m---> 27\u001b[0;31m                 \u001b[0mmme\u001b[0m\u001b[0;34m.\u001b[0m\u001b[0mfit\u001b[0m\u001b[0;34m(\u001b[0m\u001b[0mx_train\u001b[0m\u001b[0;34m,\u001b[0m \u001b[0my_train\u001b[0m\u001b[0;34m,\u001b[0m \u001b[0mx_lat_dim\u001b[0m\u001b[0;34m=\u001b[0m\u001b[0mx_lat_dim\u001b[0m\u001b[0;34m,\u001b[0m \u001b[0mx_lon_dim\u001b[0m\u001b[0;34m=\u001b[0m\u001b[0mx_lon_dim\u001b[0m\u001b[0;34m,\u001b[0m \u001b[0mx_sample_dim\u001b[0m\u001b[0;34m=\u001b[0m\u001b[0mx_sample_dim\u001b[0m\u001b[0;34m,\u001b[0m \u001b[0mx_feature_dim\u001b[0m\u001b[0;34m=\u001b[0m\u001b[0mx_feature_dim\u001b[0m\u001b[0;34m,\u001b[0m \u001b[0my_lat_dim\u001b[0m\u001b[0;34m=\u001b[0m\u001b[0my_lat_dim\u001b[0m\u001b[0;34m,\u001b[0m \u001b[0my_lon_dim\u001b[0m\u001b[0;34m=\u001b[0m\u001b[0my_lon_dim\u001b[0m\u001b[0;34m,\u001b[0m \u001b[0my_sample_dim\u001b[0m\u001b[0;34m=\u001b[0m\u001b[0my_sample_dim\u001b[0m\u001b[0;34m,\u001b[0m \u001b[0my_feature_dim\u001b[0m\u001b[0;34m=\u001b[0m\u001b[0my_feature_dim\u001b[0m\u001b[0;34m,\u001b[0m \u001b[0mlat_chunks\u001b[0m\u001b[0;34m=\u001b[0m\u001b[0mlat_chunks\u001b[0m\u001b[0;34m,\u001b[0m \u001b[0mlon_chunks\u001b[0m\u001b[0;34m=\u001b[0m\u001b[0mlon_chunks\u001b[0m\u001b[0;34m,\u001b[0m  \u001b[0mparallel_in_memory\u001b[0m\u001b[0;34m=\u001b[0m\u001b[0mparallel_in_memory\u001b[0m\u001b[0;34m)\u001b[0m\u001b[0;34m\u001b[0m\u001b[0;34m\u001b[0m\u001b[0m\n\u001b[0m\u001b[1;32m     28\u001b[0m                 \u001b[0mpreds\u001b[0m \u001b[0;34m=\u001b[0m \u001b[0mmme\u001b[0m\u001b[0;34m.\u001b[0m\u001b[0mpredict\u001b[0m\u001b[0;34m(\u001b[0m\u001b[0mx_test\u001b[0m\u001b[0;34m,\u001b[0m \u001b[0mx_lat_dim\u001b[0m\u001b[0;34m=\u001b[0m\u001b[0mx_lat_dim\u001b[0m\u001b[0;34m,\u001b[0m \u001b[0mx_lon_dim\u001b[0m\u001b[0;34m=\u001b[0m\u001b[0mx_lon_dim\u001b[0m\u001b[0;34m,\u001b[0m \u001b[0mx_sample_dim\u001b[0m\u001b[0;34m=\u001b[0m\u001b[0mx_sample_dim\u001b[0m\u001b[0;34m,\u001b[0m \u001b[0mx_feature_dim\u001b[0m\u001b[0;34m=\u001b[0m\u001b[0mx_feature_dim\u001b[0m\u001b[0;34m,\u001b[0m \u001b[0mlat_chunks\u001b[0m\u001b[0;34m=\u001b[0m\u001b[0mlat_chunks\u001b[0m\u001b[0;34m,\u001b[0m \u001b[0mlon_chunks\u001b[0m\u001b[0;34m=\u001b[0m\u001b[0mlon_chunks\u001b[0m\u001b[0;34m)\u001b[0m\u001b[0;34m\u001b[0m\u001b[0;34m\u001b[0m\u001b[0m\n\u001b[1;32m     29\u001b[0m \u001b[0;34m\u001b[0m\u001b[0m\n",
      "\u001b[0;32m~/Projects/xcast/src/regression/regressors.py\u001b[0m in \u001b[0;36mfit\u001b[0;34m(self, X, Y, x_lat_dim, x_lon_dim, x_sample_dim, x_feature_dim, y_lat_dim, y_lon_dim, y_sample_dim, y_feature_dim, lat_chunks, lon_chunks, feat_chunks, samp_chunks, verbose, parallel_in_memory)\u001b[0m\n\u001b[1;32m    303\u001b[0m                 \u001b[0mY1\u001b[0m \u001b[0;34m=\u001b[0m \u001b[0mself\u001b[0m\u001b[0;34m.\u001b[0m\u001b[0mnormy\u001b[0m\u001b[0;34m.\u001b[0m\u001b[0mtransform\u001b[0m\u001b[0;34m(\u001b[0m\u001b[0mY1\u001b[0m\u001b[0;34m,\u001b[0m \u001b[0my_lat_dim\u001b[0m\u001b[0;34m,\u001b[0m \u001b[0my_lon_dim\u001b[0m\u001b[0;34m,\u001b[0m \u001b[0my_sample_dim\u001b[0m\u001b[0;34m,\u001b[0m \u001b[0my_feature_dim\u001b[0m\u001b[0;34m)\u001b[0m\u001b[0;34m\u001b[0m\u001b[0;34m\u001b[0m\u001b[0m\n\u001b[1;32m    304\u001b[0m \u001b[0;34m\u001b[0m\u001b[0m\n\u001b[0;32m--> 305\u001b[0;31m                 \u001b[0msuper\u001b[0m\u001b[0;34m(\u001b[0m\u001b[0;34m)\u001b[0m\u001b[0;34m.\u001b[0m\u001b[0mfit\u001b[0m\u001b[0;34m(\u001b[0m\u001b[0mX1\u001b[0m\u001b[0;34m,\u001b[0m \u001b[0mY1\u001b[0m\u001b[0;34m,\u001b[0m \u001b[0mx_lat_dim\u001b[0m\u001b[0;34m,\u001b[0m \u001b[0mx_lon_dim\u001b[0m\u001b[0;34m,\u001b[0m  \u001b[0mx_sample_dim\u001b[0m\u001b[0;34m,\u001b[0m \u001b[0mx_feature_dim\u001b[0m \u001b[0;34m,\u001b[0m \u001b[0my_lat_dim\u001b[0m\u001b[0;34m,\u001b[0m \u001b[0my_lon_dim\u001b[0m\u001b[0;34m,\u001b[0m  \u001b[0my_sample_dim\u001b[0m\u001b[0;34m,\u001b[0m \u001b[0my_feature_dim\u001b[0m\u001b[0;34m,\u001b[0m  \u001b[0mlat_chunks\u001b[0m\u001b[0;34m=\u001b[0m\u001b[0mlat_chunks\u001b[0m\u001b[0;34m,\u001b[0m \u001b[0mlon_chunks\u001b[0m\u001b[0;34m=\u001b[0m\u001b[0mlon_chunks\u001b[0m\u001b[0;34m,\u001b[0m \u001b[0mfeat_chunks\u001b[0m\u001b[0;34m=\u001b[0m\u001b[0mfeat_chunks\u001b[0m\u001b[0;34m,\u001b[0m \u001b[0msamp_chunks\u001b[0m\u001b[0;34m=\u001b[0m\u001b[0msamp_chunks\u001b[0m\u001b[0;34m,\u001b[0m \u001b[0mverbose\u001b[0m\u001b[0;34m=\u001b[0m\u001b[0mverbose\u001b[0m\u001b[0;34m,\u001b[0m \u001b[0mparallel_in_memory\u001b[0m\u001b[0;34m=\u001b[0m\u001b[0mparallel_in_memory\u001b[0m\u001b[0;34m)\u001b[0m\u001b[0;34m\u001b[0m\u001b[0;34m\u001b[0m\u001b[0m\n\u001b[0m\u001b[1;32m    306\u001b[0m \u001b[0;34m\u001b[0m\u001b[0m\n\u001b[1;32m    307\u001b[0m         \u001b[0;32mdef\u001b[0m \u001b[0mpredict\u001b[0m\u001b[0;34m(\u001b[0m\u001b[0mself\u001b[0m\u001b[0;34m,\u001b[0m \u001b[0mX\u001b[0m\u001b[0;34m,\u001b[0m \u001b[0mx_lat_dim\u001b[0m\u001b[0;34m=\u001b[0m\u001b[0;34m'Y'\u001b[0m\u001b[0;34m,\u001b[0m \u001b[0mx_lon_dim\u001b[0m\u001b[0;34m=\u001b[0m\u001b[0;34m'X'\u001b[0m\u001b[0;34m,\u001b[0m \u001b[0mx_sample_dim\u001b[0m\u001b[0;34m=\u001b[0m\u001b[0;34m'T'\u001b[0m\u001b[0;34m,\u001b[0m \u001b[0mx_feature_dim\u001b[0m\u001b[0;34m=\u001b[0m\u001b[0;34m'M'\u001b[0m\u001b[0;34m,\u001b[0m \u001b[0mlat_chunks\u001b[0m\u001b[0;34m=\u001b[0m\u001b[0;36m1\u001b[0m\u001b[0;34m,\u001b[0m \u001b[0mlon_chunks\u001b[0m\u001b[0;34m=\u001b[0m\u001b[0;36m1\u001b[0m \u001b[0;34m,\u001b[0m \u001b[0mfeat_chunks\u001b[0m\u001b[0;34m=\u001b[0m\u001b[0;36m1\u001b[0m\u001b[0;34m,\u001b[0m \u001b[0msamp_chunks\u001b[0m\u001b[0;34m=\u001b[0m\u001b[0;36m1\u001b[0m\u001b[0;34m,\u001b[0m  \u001b[0mverbose\u001b[0m\u001b[0;34m=\u001b[0m\u001b[0;32mFalse\u001b[0m\u001b[0;34m)\u001b[0m\u001b[0;34m:\u001b[0m\u001b[0;34m\u001b[0m\u001b[0;34m\u001b[0m\u001b[0m\n",
      "\u001b[0;32m~/Projects/xcast/src/regression/base_regressor.py\u001b[0m in \u001b[0;36mfit\u001b[0;34m(self, X, Y, x_lat_dim, x_lon_dim, x_sample_dim, x_feature_dim, y_lat_dim, y_lon_dim, y_sample_dim, y_feature_dim, lat_chunks, lon_chunks, feat_chunks, samp_chunks, verbose, parallel_in_memory)\u001b[0m\n\u001b[1;32m     88\u001b[0m                                         \u001b[0mchunk_of_x\u001b[0m \u001b[0;34m=\u001b[0m \u001b[0mX1\u001b[0m\u001b[0;34m.\u001b[0m\u001b[0misel\u001b[0m\u001b[0;34m(\u001b[0m\u001b[0;34m**\u001b[0m\u001b[0mx_isel\u001b[0m\u001b[0;34m)\u001b[0m\u001b[0;34m\u001b[0m\u001b[0;34m\u001b[0m\u001b[0m\n\u001b[1;32m     89\u001b[0m                                         \u001b[0mchunk_of_y\u001b[0m \u001b[0;34m=\u001b[0m \u001b[0mY1\u001b[0m\u001b[0;34m.\u001b[0m\u001b[0misel\u001b[0m\u001b[0;34m(\u001b[0m\u001b[0;34m**\u001b[0m\u001b[0my_isel\u001b[0m\u001b[0;34m)\u001b[0m\u001b[0;34m\u001b[0m\u001b[0;34m\u001b[0m\u001b[0m\n\u001b[0;32m---> 90\u001b[0;31m                                         \u001b[0mself\u001b[0m\u001b[0;34m.\u001b[0m\u001b[0m_apply_fit_to_chunk\u001b[0m\u001b[0;34m(\u001b[0m\u001b[0mchunk_of_x\u001b[0m\u001b[0;34m,\u001b[0m \u001b[0mchunk_of_y\u001b[0m\u001b[0;34m,\u001b[0m \u001b[0mlat_ndx_low\u001b[0m\u001b[0;34m,\u001b[0m \u001b[0mlon_ndx_low\u001b[0m\u001b[0;34m,\u001b[0m \u001b[0mverbose\u001b[0m\u001b[0;34m=\u001b[0m\u001b[0mverbose\u001b[0m \u001b[0;34m)\u001b[0m\u001b[0;34m\u001b[0m\u001b[0;34m\u001b[0m\u001b[0m\n\u001b[0m\u001b[1;32m     91\u001b[0m                                         \u001b[0mlon_ndx_low\u001b[0m \u001b[0;34m+=\u001b[0m \u001b[0mself\u001b[0m\u001b[0;34m.\u001b[0m\u001b[0mlon_chunks\u001b[0m\u001b[0;34m[\u001b[0m\u001b[0mj\u001b[0m\u001b[0;34m]\u001b[0m\u001b[0;34m\u001b[0m\u001b[0;34m\u001b[0m\u001b[0m\n\u001b[1;32m     92\u001b[0m                                 \u001b[0mlat_ndx_low\u001b[0m \u001b[0;34m+=\u001b[0m \u001b[0mself\u001b[0m\u001b[0;34m.\u001b[0m\u001b[0mlat_chunks\u001b[0m\u001b[0;34m[\u001b[0m\u001b[0mi\u001b[0m\u001b[0;34m]\u001b[0m\u001b[0;34m\u001b[0m\u001b[0;34m\u001b[0m\u001b[0m\n",
      "\u001b[0;32m~/Projects/xcast/src/regression/base_regressor.py\u001b[0m in \u001b[0;36m_apply_fit_to_chunk\u001b[0;34m(self, X1, Y1, lat_ndx_low, lon_ndx_low, verbose)\u001b[0m\n\u001b[1;32m    116\u001b[0m                                 \u001b[0;32mfor\u001b[0m \u001b[0mk\u001b[0m \u001b[0;32min\u001b[0m \u001b[0mrange\u001b[0m\u001b[0;34m(\u001b[0m\u001b[0mself\u001b[0m\u001b[0;34m.\u001b[0m\u001b[0mND\u001b[0m\u001b[0;34m)\u001b[0m\u001b[0;34m:\u001b[0m\u001b[0;34m\u001b[0m\u001b[0;34m\u001b[0m\u001b[0m\n\u001b[1;32m    117\u001b[0m                                         \u001b[0mself\u001b[0m\u001b[0;34m.\u001b[0m\u001b[0mmodels\u001b[0m\u001b[0;34m[\u001b[0m\u001b[0mlat_ndx_low\u001b[0m\u001b[0;34m+\u001b[0m\u001b[0mi\u001b[0m\u001b[0;34m]\u001b[0m\u001b[0;34m[\u001b[0m\u001b[0mlon_ndx_low\u001b[0m\u001b[0;34m+\u001b[0m\u001b[0mj\u001b[0m\u001b[0;34m]\u001b[0m\u001b[0;34m.\u001b[0m\u001b[0mappend\u001b[0m\u001b[0;34m(\u001b[0m\u001b[0mtemp_mme\u001b[0m\u001b[0;34m(\u001b[0m\u001b[0;34m**\u001b[0m\u001b[0mself\u001b[0m\u001b[0;34m.\u001b[0m\u001b[0mkwargs\u001b[0m\u001b[0;34m)\u001b[0m\u001b[0;34m)\u001b[0m\u001b[0;34m\u001b[0m\u001b[0;34m\u001b[0m\u001b[0m\n\u001b[0;32m--> 118\u001b[0;31m                                         \u001b[0mself\u001b[0m\u001b[0;34m.\u001b[0m\u001b[0mmodels\u001b[0m\u001b[0;34m[\u001b[0m\u001b[0mlat_ndx_low\u001b[0m\u001b[0;34m+\u001b[0m\u001b[0mi\u001b[0m\u001b[0;34m]\u001b[0m\u001b[0;34m[\u001b[0m\u001b[0mlon_ndx_low\u001b[0m\u001b[0;34m+\u001b[0m\u001b[0mj\u001b[0m\u001b[0;34m]\u001b[0m\u001b[0;34m[\u001b[0m\u001b[0mk\u001b[0m\u001b[0;34m]\u001b[0m\u001b[0;34m.\u001b[0m\u001b[0mfit\u001b[0m\u001b[0;34m(\u001b[0m\u001b[0mx_train\u001b[0m\u001b[0;34m,\u001b[0m \u001b[0my_train\u001b[0m\u001b[0;34m)\u001b[0m\u001b[0;34m\u001b[0m\u001b[0;34m\u001b[0m\u001b[0m\n\u001b[0m\u001b[1;32m    119\u001b[0m                                 \u001b[0mself\u001b[0m\u001b[0;34m.\u001b[0m\u001b[0mcount\u001b[0m \u001b[0;34m+=\u001b[0m \u001b[0;36m1\u001b[0m\u001b[0;34m\u001b[0m\u001b[0;34m\u001b[0m\u001b[0m\n\u001b[1;32m    120\u001b[0m                                 \u001b[0;32mif\u001b[0m \u001b[0mverbose\u001b[0m\u001b[0;34m:\u001b[0m\u001b[0;34m\u001b[0m\u001b[0;34m\u001b[0m\u001b[0m\n",
      "\u001b[0;32m~/opt/anaconda3/lib/python3.8/site-packages/extremelearning-0.1.3-py3.8.egg/extremelearning/deterministic/elm.py\u001b[0m in \u001b[0;36mfit\u001b[0;34m(self, x, y, c)\u001b[0m\n\u001b[1;32m     17\u001b[0m                 \u001b[0mhh\u001b[0m \u001b[0;34m=\u001b[0m \u001b[0mnp\u001b[0m\u001b[0;34m.\u001b[0m\u001b[0mdot\u001b[0m\u001b[0;34m(\u001b[0m\u001b[0mnp\u001b[0m\u001b[0;34m.\u001b[0m\u001b[0mtranspose\u001b[0m\u001b[0;34m(\u001b[0m\u001b[0mh\u001b[0m\u001b[0;34m)\u001b[0m\u001b[0;34m,\u001b[0m \u001b[0mh\u001b[0m\u001b[0;34m)\u001b[0m\u001b[0;34m\u001b[0m\u001b[0;34m\u001b[0m\u001b[0m\n\u001b[1;32m     18\u001b[0m                 \u001b[0mht\u001b[0m \u001b[0;34m=\u001b[0m \u001b[0mnp\u001b[0m\u001b[0;34m.\u001b[0m\u001b[0mdot\u001b[0m\u001b[0;34m(\u001b[0m\u001b[0mnp\u001b[0m\u001b[0;34m.\u001b[0m\u001b[0mtranspose\u001b[0m\u001b[0;34m(\u001b[0m\u001b[0mh\u001b[0m\u001b[0;34m)\u001b[0m\u001b[0;34m,\u001b[0m \u001b[0my\u001b[0m\u001b[0;34m)\u001b[0m\u001b[0;34m\u001b[0m\u001b[0;34m\u001b[0m\u001b[0m\n\u001b[0;32m---> 19\u001b[0;31m                 \u001b[0mself\u001b[0m\u001b[0;34m.\u001b[0m\u001b[0mb\u001b[0m \u001b[0;34m=\u001b[0m \u001b[0mnp\u001b[0m\u001b[0;34m.\u001b[0m\u001b[0mdot\u001b[0m\u001b[0;34m(\u001b[0m\u001b[0mnp\u001b[0m\u001b[0;34m.\u001b[0m\u001b[0mlinalg\u001b[0m\u001b[0;34m.\u001b[0m\u001b[0mpinv\u001b[0m\u001b[0;34m(\u001b[0m\u001b[0mhh\u001b[0m\u001b[0;34m)\u001b[0m\u001b[0;34m,\u001b[0m \u001b[0mht\u001b[0m\u001b[0;34m)\u001b[0m\u001b[0;34m\u001b[0m\u001b[0;34m\u001b[0m\u001b[0m\n\u001b[0m\u001b[1;32m     20\u001b[0m \u001b[0;34m\u001b[0m\u001b[0m\n\u001b[1;32m     21\u001b[0m         \u001b[0;32mdef\u001b[0m \u001b[0mpredict\u001b[0m\u001b[0;34m(\u001b[0m\u001b[0mself\u001b[0m\u001b[0;34m,\u001b[0m \u001b[0mx\u001b[0m\u001b[0;34m)\u001b[0m\u001b[0;34m:\u001b[0m\u001b[0;34m\u001b[0m\u001b[0;34m\u001b[0m\u001b[0m\n",
      "\u001b[0;32m<__array_function__ internals>\u001b[0m in \u001b[0;36mpinv\u001b[0;34m(*args, **kwargs)\u001b[0m\n",
      "\u001b[0;32m~/opt/anaconda3/lib/python3.8/site-packages/numpy/linalg/linalg.py\u001b[0m in \u001b[0;36mpinv\u001b[0;34m(a, rcond, hermitian)\u001b[0m\n\u001b[1;32m   2000\u001b[0m         \u001b[0;32mreturn\u001b[0m \u001b[0mwrap\u001b[0m\u001b[0;34m(\u001b[0m\u001b[0mres\u001b[0m\u001b[0;34m)\u001b[0m\u001b[0;34m\u001b[0m\u001b[0;34m\u001b[0m\u001b[0m\n\u001b[1;32m   2001\u001b[0m     \u001b[0ma\u001b[0m \u001b[0;34m=\u001b[0m \u001b[0ma\u001b[0m\u001b[0;34m.\u001b[0m\u001b[0mconjugate\u001b[0m\u001b[0;34m(\u001b[0m\u001b[0;34m)\u001b[0m\u001b[0;34m\u001b[0m\u001b[0;34m\u001b[0m\u001b[0m\n\u001b[0;32m-> 2002\u001b[0;31m     \u001b[0mu\u001b[0m\u001b[0;34m,\u001b[0m \u001b[0ms\u001b[0m\u001b[0;34m,\u001b[0m \u001b[0mvt\u001b[0m \u001b[0;34m=\u001b[0m \u001b[0msvd\u001b[0m\u001b[0;34m(\u001b[0m\u001b[0ma\u001b[0m\u001b[0;34m,\u001b[0m \u001b[0mfull_matrices\u001b[0m\u001b[0;34m=\u001b[0m\u001b[0;32mFalse\u001b[0m\u001b[0;34m,\u001b[0m \u001b[0mhermitian\u001b[0m\u001b[0;34m=\u001b[0m\u001b[0mhermitian\u001b[0m\u001b[0;34m)\u001b[0m\u001b[0;34m\u001b[0m\u001b[0;34m\u001b[0m\u001b[0m\n\u001b[0m\u001b[1;32m   2003\u001b[0m \u001b[0;34m\u001b[0m\u001b[0m\n\u001b[1;32m   2004\u001b[0m     \u001b[0;31m# discard small singular values\u001b[0m\u001b[0;34m\u001b[0m\u001b[0;34m\u001b[0m\u001b[0;34m\u001b[0m\u001b[0m\n",
      "\u001b[0;32m<__array_function__ internals>\u001b[0m in \u001b[0;36msvd\u001b[0;34m(*args, **kwargs)\u001b[0m\n",
      "\u001b[0;32m~/opt/anaconda3/lib/python3.8/site-packages/numpy/linalg/linalg.py\u001b[0m in \u001b[0;36msvd\u001b[0;34m(a, full_matrices, compute_uv, hermitian)\u001b[0m\n\u001b[1;32m   1658\u001b[0m \u001b[0;34m\u001b[0m\u001b[0m\n\u001b[1;32m   1659\u001b[0m         \u001b[0msignature\u001b[0m \u001b[0;34m=\u001b[0m \u001b[0;34m'D->DdD'\u001b[0m \u001b[0;32mif\u001b[0m \u001b[0misComplexType\u001b[0m\u001b[0;34m(\u001b[0m\u001b[0mt\u001b[0m\u001b[0;34m)\u001b[0m \u001b[0;32melse\u001b[0m \u001b[0;34m'd->ddd'\u001b[0m\u001b[0;34m\u001b[0m\u001b[0;34m\u001b[0m\u001b[0m\n\u001b[0;32m-> 1660\u001b[0;31m         \u001b[0mu\u001b[0m\u001b[0;34m,\u001b[0m \u001b[0ms\u001b[0m\u001b[0;34m,\u001b[0m \u001b[0mvh\u001b[0m \u001b[0;34m=\u001b[0m \u001b[0mgufunc\u001b[0m\u001b[0;34m(\u001b[0m\u001b[0ma\u001b[0m\u001b[0;34m,\u001b[0m \u001b[0msignature\u001b[0m\u001b[0;34m=\u001b[0m\u001b[0msignature\u001b[0m\u001b[0;34m,\u001b[0m \u001b[0mextobj\u001b[0m\u001b[0;34m=\u001b[0m\u001b[0mextobj\u001b[0m\u001b[0;34m)\u001b[0m\u001b[0;34m\u001b[0m\u001b[0;34m\u001b[0m\u001b[0m\n\u001b[0m\u001b[1;32m   1661\u001b[0m         \u001b[0mu\u001b[0m \u001b[0;34m=\u001b[0m \u001b[0mu\u001b[0m\u001b[0;34m.\u001b[0m\u001b[0mastype\u001b[0m\u001b[0;34m(\u001b[0m\u001b[0mresult_t\u001b[0m\u001b[0;34m,\u001b[0m \u001b[0mcopy\u001b[0m\u001b[0;34m=\u001b[0m\u001b[0;32mFalse\u001b[0m\u001b[0;34m)\u001b[0m\u001b[0;34m\u001b[0m\u001b[0;34m\u001b[0m\u001b[0m\n\u001b[1;32m   1662\u001b[0m         \u001b[0ms\u001b[0m \u001b[0;34m=\u001b[0m \u001b[0ms\u001b[0m\u001b[0;34m.\u001b[0m\u001b[0mastype\u001b[0m\u001b[0;34m(\u001b[0m\u001b[0m_realType\u001b[0m\u001b[0;34m(\u001b[0m\u001b[0mresult_t\u001b[0m\u001b[0;34m)\u001b[0m\u001b[0;34m,\u001b[0m \u001b[0mcopy\u001b[0m\u001b[0;34m=\u001b[0m\u001b[0;32mFalse\u001b[0m\u001b[0;34m)\u001b[0m\u001b[0;34m\u001b[0m\u001b[0;34m\u001b[0m\u001b[0m\n",
      "\u001b[0;31mKeyboardInterrupt\u001b[0m: "
     ]
    }
   ],
   "source": [
    "%%timeit \n",
    "elm = xc.cross_validate(xc.ExtremeLearningMachine, X_TRAIN.prec, Y.prate, x_sample_dim='S', verbose=2, window=5, ND=10, lat_chunks=4, lon_chunks=4, hidden_layer_size=5, parallel_in_memory=False)"
   ]
  },
  {
   "cell_type": "code",
   "execution_count": 9,
   "metadata": {},
   "outputs": [
    {
     "name": "stdout",
     "output_type": "stream",
     "text": [
      "13.3 s ± 232 ms per loop (mean ± std. dev. of 7 runs, 1 loop each)\n"
     ]
    }
   ],
   "source": [
    "%%timeit \n",
    "elm = xc.ExtremeLearningMachine(ND=100)\n",
    "elm.fit(X_TRAIN.prec, Y.prate, x_sample_dim='S', lat_chunks=10, lon_chunks=10, parallel_in_memory=True, verbose=True)\n",
    "#preds = elm.predict(X_TRAIN.prec, x_sample_dim='S', lat_chunks=2, lon_chunks=)"
   ]
  },
  {
   "cell_type": "code",
   "execution_count": 10,
   "metadata": {},
   "outputs": [
    {
     "name": "stdout",
     "output_type": "stream",
     "text": [
      "Fitting ELMRegressor: 2021-09-27 16:18:43.591325 [*************************]\n",
      "Fitting ELMRegressor: 2021-09-27 16:19:04.449053 [*************************]\n",
      "Fitting ELMRegressor: 2021-09-27 16:19:25.413739 [*************************]\n",
      "Fitting ELMRegressor: 2021-09-27 16:19:46.523495 [*************************]\n",
      "Fitting ELMRegressor: 2021-09-27 16:20:07.572059 [*************************]\n",
      "Fitting ELMRegressor: 2021-09-27 16:20:28.519492 [*************************]\n",
      "Fitting ELMRegressor: 2021-09-27 16:20:49.477843 [*************************]\n",
      "Fitting ELMRegressor: 2021-09-27 16:21:10.538208 [*************************]\n",
      "20.6 s ± 84.3 ms per loop (mean ± std. dev. of 7 runs, 1 loop each)\n"
     ]
    }
   ],
   "source": [
    "%%timeit \n",
    "elm = xc.ExtremeLearningMachine(ND=100)\n",
    "elm.fit(X_TRAIN.prec, Y.prate, x_sample_dim='S', lat_chunks=10, lon_chunks=10, parallel_in_memory=False, verbose=True)\n",
    "#preds = elm.predict(X_TRAIN.prec,x_sample_dim='S', lat_chunks=4, lon_chunks=4)"
   ]
  },
  {
   "cell_type": "code",
   "execution_count": 6,
   "metadata": {},
   "outputs": [
    {
     "name": "stdout",
     "output_type": "stream",
     "text": [
      " CROSSVALIDATING RandomForest:  2021-09-27 13:54:44.047068 [                         ]\r"
     ]
    },
    {
     "name": "stderr",
     "output_type": "stream",
     "text": [
      "ERROR:root:Internal Python error in the inspect module.\n",
      "Below is the traceback from this internal error.\n",
      "\n"
     ]
    },
    {
     "name": "stdout",
     "output_type": "stream",
     "text": [
      "Traceback (most recent call last):\n",
      "  File \"/Users/kylehall/opt/anaconda3/lib/python3.8/site-packages/IPython/core/interactiveshell.py\", line 3437, in run_code\n",
      "    exec(code_obj, self.user_global_ns, self.user_ns)\n",
      "  File \"<ipython-input-6-33661f24ded4>\", line 1, in <module>\n",
      "    get_ipython().run_cell_magic('timeit', '', \"rf = xc.cross_validate(xc.RandomForest, X_TRAIN.prec, Y.prate, x_sample_dim='S', verbose=2, window=5, ND=10, lat_chunks=4, lon_chunks=4 )\\n\")\n",
      "  File \"/Users/kylehall/opt/anaconda3/lib/python3.8/site-packages/IPython/core/interactiveshell.py\", line 2399, in run_cell_magic\n",
      "    result = fn(*args, **kwargs)\n",
      "  File \"/Users/kylehall/opt/anaconda3/lib/python3.8/site-packages/decorator.py\", line 231, in fun\n",
      "    return caller(func, *(extras + args), **kw)\n",
      "  File \"/Users/kylehall/opt/anaconda3/lib/python3.8/site-packages/IPython/core/magic.py\", line 187, in <lambda>\n",
      "    call = lambda f, *a, **k: f(*a, **k)\n",
      "  File \"/Users/kylehall/opt/anaconda3/lib/python3.8/site-packages/IPython/core/magics/execution.py\", line 1169, in timeit\n",
      "    time_number = timer.timeit(number)\n",
      "  File \"/Users/kylehall/opt/anaconda3/lib/python3.8/site-packages/IPython/core/magics/execution.py\", line 169, in timeit\n",
      "    timing = self.inner(it, self.timer)\n",
      "  File \"<magic-timeit>\", line 1, in inner\n",
      "  File \"/Users/kylehall/Projects/xcast/src/validation/base_validation.py\", line 27, in cross_validate\n",
      "    mme.fit(x_train, y_train, x_lat_dim=x_lat_dim, x_lon_dim=x_lon_dim, x_sample_dim=x_sample_dim, x_feature_dim=x_feature_dim, y_lat_dim=y_lat_dim, y_lon_dim=y_lon_dim, y_sample_dim=y_sample_dim, y_feature_dim=y_feature_dim, lat_chunks=lat_chunks, lon_chunks=lon_chunks,  parallel_in_memory=parallel_in_memory)\n",
      "  File \"/Users/kylehall/Projects/xcast/src/regression/regressors.py\", line 242, in fit\n",
      "    super().fit(X1, Y1, x_lat_dim, x_lon_dim,  x_sample_dim, x_feature_dim , y_lat_dim, y_lon_dim,  y_sample_dim, y_feature_dim,  lat_chunks=lat_chunks, lon_chunks=lon_chunks, feat_chunks=feat_chunks, samp_chunks=samp_chunks, verbose=verbose, parallel_in_memory=parallel_in_memory)\n",
      "  File \"/Users/kylehall/Projects/xcast/src/regression/base_regressor.py\", line 75, in fit\n",
      "    self.models = da.map_blocks(apply_fit_to_block, x_data, y_data, drop_axis=[2,3], new_axis=[3], mme=self.model_type, ND=self.ND, kwargs=self.kwargs, meta=np.array((), dtype=np.dtype('O'))).compute()\n",
      "  File \"/Users/kylehall/opt/anaconda3/lib/python3.8/site-packages/dask/base.py\", line 284, in compute\n",
      "    (result,) = compute(self, traverse=False, **kwargs)\n",
      "  File \"/Users/kylehall/opt/anaconda3/lib/python3.8/site-packages/dask/base.py\", line 566, in compute\n",
      "    results = schedule(dsk, keys, **kwargs)\n",
      "  File \"/Users/kylehall/opt/anaconda3/lib/python3.8/site-packages/dask/threaded.py\", line 79, in get\n",
      "    results = get_async(\n",
      "  File \"/Users/kylehall/opt/anaconda3/lib/python3.8/site-packages/dask/local.py\", line 503, in get_async\n",
      "    for key, res_info, failed in queue_get(queue).result():\n",
      "  File \"/Users/kylehall/opt/anaconda3/lib/python3.8/site-packages/dask/local.py\", line 134, in queue_get\n",
      "    return q.get()\n",
      "  File \"/Users/kylehall/opt/anaconda3/lib/python3.8/queue.py\", line 170, in get\n",
      "    self.not_empty.wait()\n",
      "  File \"/Users/kylehall/opt/anaconda3/lib/python3.8/threading.py\", line 302, in wait\n",
      "    waiter.acquire()\n",
      "KeyboardInterrupt\n",
      "\n",
      "During handling of the above exception, another exception occurred:\n",
      "\n",
      "Traceback (most recent call last):\n",
      "  File \"/Users/kylehall/opt/anaconda3/lib/python3.8/site-packages/IPython/core/interactiveshell.py\", line 2061, in showtraceback\n",
      "    stb = value._render_traceback_()\n",
      "AttributeError: 'KeyboardInterrupt' object has no attribute '_render_traceback_'\n",
      "\n",
      "During handling of the above exception, another exception occurred:\n",
      "\n",
      "Traceback (most recent call last):\n",
      "  File \"/Users/kylehall/opt/anaconda3/lib/python3.8/site-packages/IPython/core/ultratb.py\", line 1101, in get_records\n",
      "    return _fixed_getinnerframes(etb, number_of_lines_of_context, tb_offset)\n",
      "  File \"/Users/kylehall/opt/anaconda3/lib/python3.8/site-packages/IPython/core/ultratb.py\", line 248, in wrapped\n",
      "    return f(*args, **kwargs)\n",
      "  File \"/Users/kylehall/opt/anaconda3/lib/python3.8/site-packages/IPython/core/ultratb.py\", line 281, in _fixed_getinnerframes\n",
      "    records = fix_frame_records_filenames(inspect.getinnerframes(etb, context))\n",
      "  File \"/Users/kylehall/opt/anaconda3/lib/python3.8/inspect.py\", line 1515, in getinnerframes\n",
      "    frameinfo = (tb.tb_frame,) + getframeinfo(tb, context)\n",
      "  File \"/Users/kylehall/opt/anaconda3/lib/python3.8/inspect.py\", line 1473, in getframeinfo\n",
      "    filename = getsourcefile(frame) or getfile(frame)\n",
      "  File \"/Users/kylehall/opt/anaconda3/lib/python3.8/inspect.py\", line 708, in getsourcefile\n",
      "    if getattr(getmodule(object, filename), '__loader__', None) is not None:\n",
      "  File \"/Users/kylehall/opt/anaconda3/lib/python3.8/inspect.py\", line 754, in getmodule\n",
      "    os.path.realpath(f)] = module.__name__\n",
      "  File \"/Users/kylehall/opt/anaconda3/lib/python3.8/posixpath.py\", line 391, in realpath\n",
      "    path, ok = _joinrealpath(filename[:0], filename, {})\n",
      "  File \"/Users/kylehall/opt/anaconda3/lib/python3.8/posixpath.py\", line 425, in _joinrealpath\n",
      "    if not islink(newpath):\n",
      "  File \"/Users/kylehall/opt/anaconda3/lib/python3.8/posixpath.py\", line 167, in islink\n",
      "    st = os.lstat(path)\n",
      "KeyboardInterrupt\n"
     ]
    },
    {
     "ename": "TypeError",
     "evalue": "object of type 'NoneType' has no len()",
     "output_type": "error",
     "traceback": [
      "\u001b[0;31m---------------------------------------------------------------------------\u001b[0m",
      "\u001b[0;31mKeyboardInterrupt\u001b[0m                         Traceback (most recent call last)",
      "    \u001b[0;31m[... skipping hidden 1 frame]\u001b[0m\n",
      "\u001b[0;32m<ipython-input-6-33661f24ded4>\u001b[0m in \u001b[0;36m<module>\u001b[0;34m\u001b[0m\n\u001b[0;32m----> 1\u001b[0;31m \u001b[0mget_ipython\u001b[0m\u001b[0;34m(\u001b[0m\u001b[0;34m)\u001b[0m\u001b[0;34m.\u001b[0m\u001b[0mrun_cell_magic\u001b[0m\u001b[0;34m(\u001b[0m\u001b[0;34m'timeit'\u001b[0m\u001b[0;34m,\u001b[0m \u001b[0;34m''\u001b[0m\u001b[0;34m,\u001b[0m \u001b[0;34m\"rf = xc.cross_validate(xc.RandomForest, X_TRAIN.prec, Y.prate, x_sample_dim='S', verbose=2, window=5, ND=10, lat_chunks=4, lon_chunks=4 )\\n\"\u001b[0m\u001b[0;34m)\u001b[0m\u001b[0;34m\u001b[0m\u001b[0;34m\u001b[0m\u001b[0m\n\u001b[0m",
      "\u001b[0;32m~/opt/anaconda3/lib/python3.8/site-packages/IPython/core/interactiveshell.py\u001b[0m in \u001b[0;36mrun_cell_magic\u001b[0;34m(self, magic_name, line, cell)\u001b[0m\n\u001b[1;32m   2398\u001b[0m                 \u001b[0margs\u001b[0m \u001b[0;34m=\u001b[0m \u001b[0;34m(\u001b[0m\u001b[0mmagic_arg_s\u001b[0m\u001b[0;34m,\u001b[0m \u001b[0mcell\u001b[0m\u001b[0;34m)\u001b[0m\u001b[0;34m\u001b[0m\u001b[0;34m\u001b[0m\u001b[0m\n\u001b[0;32m-> 2399\u001b[0;31m                 \u001b[0mresult\u001b[0m \u001b[0;34m=\u001b[0m \u001b[0mfn\u001b[0m\u001b[0;34m(\u001b[0m\u001b[0;34m*\u001b[0m\u001b[0margs\u001b[0m\u001b[0;34m,\u001b[0m \u001b[0;34m**\u001b[0m\u001b[0mkwargs\u001b[0m\u001b[0;34m)\u001b[0m\u001b[0;34m\u001b[0m\u001b[0;34m\u001b[0m\u001b[0m\n\u001b[0m\u001b[1;32m   2400\u001b[0m             \u001b[0;32mreturn\u001b[0m \u001b[0mresult\u001b[0m\u001b[0;34m\u001b[0m\u001b[0;34m\u001b[0m\u001b[0m\n",
      "\u001b[0;32m~/opt/anaconda3/lib/python3.8/site-packages/decorator.py\u001b[0m in \u001b[0;36mfun\u001b[0;34m(*args, **kw)\u001b[0m\n\u001b[1;32m    230\u001b[0m                 \u001b[0margs\u001b[0m\u001b[0;34m,\u001b[0m \u001b[0mkw\u001b[0m \u001b[0;34m=\u001b[0m \u001b[0mfix\u001b[0m\u001b[0;34m(\u001b[0m\u001b[0margs\u001b[0m\u001b[0;34m,\u001b[0m \u001b[0mkw\u001b[0m\u001b[0;34m,\u001b[0m \u001b[0msig\u001b[0m\u001b[0;34m)\u001b[0m\u001b[0;34m\u001b[0m\u001b[0;34m\u001b[0m\u001b[0m\n\u001b[0;32m--> 231\u001b[0;31m             \u001b[0;32mreturn\u001b[0m \u001b[0mcaller\u001b[0m\u001b[0;34m(\u001b[0m\u001b[0mfunc\u001b[0m\u001b[0;34m,\u001b[0m \u001b[0;34m*\u001b[0m\u001b[0;34m(\u001b[0m\u001b[0mextras\u001b[0m \u001b[0;34m+\u001b[0m \u001b[0margs\u001b[0m\u001b[0;34m)\u001b[0m\u001b[0;34m,\u001b[0m \u001b[0;34m**\u001b[0m\u001b[0mkw\u001b[0m\u001b[0;34m)\u001b[0m\u001b[0;34m\u001b[0m\u001b[0;34m\u001b[0m\u001b[0m\n\u001b[0m\u001b[1;32m    232\u001b[0m     \u001b[0mfun\u001b[0m\u001b[0;34m.\u001b[0m\u001b[0m__name__\u001b[0m \u001b[0;34m=\u001b[0m \u001b[0mfunc\u001b[0m\u001b[0;34m.\u001b[0m\u001b[0m__name__\u001b[0m\u001b[0;34m\u001b[0m\u001b[0;34m\u001b[0m\u001b[0m\n",
      "\u001b[0;32m~/opt/anaconda3/lib/python3.8/site-packages/IPython/core/magic.py\u001b[0m in \u001b[0;36m<lambda>\u001b[0;34m(f, *a, **k)\u001b[0m\n\u001b[1;32m    186\u001b[0m     \u001b[0;32mdef\u001b[0m \u001b[0mmagic_deco\u001b[0m\u001b[0;34m(\u001b[0m\u001b[0marg\u001b[0m\u001b[0;34m)\u001b[0m\u001b[0;34m:\u001b[0m\u001b[0;34m\u001b[0m\u001b[0;34m\u001b[0m\u001b[0m\n\u001b[0;32m--> 187\u001b[0;31m         \u001b[0mcall\u001b[0m \u001b[0;34m=\u001b[0m \u001b[0;32mlambda\u001b[0m \u001b[0mf\u001b[0m\u001b[0;34m,\u001b[0m \u001b[0;34m*\u001b[0m\u001b[0ma\u001b[0m\u001b[0;34m,\u001b[0m \u001b[0;34m**\u001b[0m\u001b[0mk\u001b[0m\u001b[0;34m:\u001b[0m \u001b[0mf\u001b[0m\u001b[0;34m(\u001b[0m\u001b[0;34m*\u001b[0m\u001b[0ma\u001b[0m\u001b[0;34m,\u001b[0m \u001b[0;34m**\u001b[0m\u001b[0mk\u001b[0m\u001b[0;34m)\u001b[0m\u001b[0;34m\u001b[0m\u001b[0;34m\u001b[0m\u001b[0m\n\u001b[0m\u001b[1;32m    188\u001b[0m \u001b[0;34m\u001b[0m\u001b[0m\n",
      "\u001b[0;32m~/opt/anaconda3/lib/python3.8/site-packages/IPython/core/magics/execution.py\u001b[0m in \u001b[0;36mtimeit\u001b[0;34m(self, line, cell, local_ns)\u001b[0m\n\u001b[1;32m   1168\u001b[0m                 \u001b[0mnumber\u001b[0m \u001b[0;34m=\u001b[0m \u001b[0;36m10\u001b[0m \u001b[0;34m**\u001b[0m \u001b[0mindex\u001b[0m\u001b[0;34m\u001b[0m\u001b[0;34m\u001b[0m\u001b[0m\n\u001b[0;32m-> 1169\u001b[0;31m                 \u001b[0mtime_number\u001b[0m \u001b[0;34m=\u001b[0m \u001b[0mtimer\u001b[0m\u001b[0;34m.\u001b[0m\u001b[0mtimeit\u001b[0m\u001b[0;34m(\u001b[0m\u001b[0mnumber\u001b[0m\u001b[0;34m)\u001b[0m\u001b[0;34m\u001b[0m\u001b[0;34m\u001b[0m\u001b[0m\n\u001b[0m\u001b[1;32m   1170\u001b[0m                 \u001b[0;32mif\u001b[0m \u001b[0mtime_number\u001b[0m \u001b[0;34m>=\u001b[0m \u001b[0;36m0.2\u001b[0m\u001b[0;34m:\u001b[0m\u001b[0;34m\u001b[0m\u001b[0;34m\u001b[0m\u001b[0m\n",
      "\u001b[0;32m~/opt/anaconda3/lib/python3.8/site-packages/IPython/core/magics/execution.py\u001b[0m in \u001b[0;36mtimeit\u001b[0;34m(self, number)\u001b[0m\n\u001b[1;32m    168\u001b[0m         \u001b[0;32mtry\u001b[0m\u001b[0;34m:\u001b[0m\u001b[0;34m\u001b[0m\u001b[0;34m\u001b[0m\u001b[0m\n\u001b[0;32m--> 169\u001b[0;31m             \u001b[0mtiming\u001b[0m \u001b[0;34m=\u001b[0m \u001b[0mself\u001b[0m\u001b[0;34m.\u001b[0m\u001b[0minner\u001b[0m\u001b[0;34m(\u001b[0m\u001b[0mit\u001b[0m\u001b[0;34m,\u001b[0m \u001b[0mself\u001b[0m\u001b[0;34m.\u001b[0m\u001b[0mtimer\u001b[0m\u001b[0;34m)\u001b[0m\u001b[0;34m\u001b[0m\u001b[0;34m\u001b[0m\u001b[0m\n\u001b[0m\u001b[1;32m    170\u001b[0m         \u001b[0;32mfinally\u001b[0m\u001b[0;34m:\u001b[0m\u001b[0;34m\u001b[0m\u001b[0;34m\u001b[0m\u001b[0m\n",
      "\u001b[0;32m<magic-timeit>\u001b[0m in \u001b[0;36minner\u001b[0;34m(_it, _timer)\u001b[0m\n",
      "\u001b[0;32m~/Projects/xcast/src/validation/base_validation.py\u001b[0m in \u001b[0;36mcross_validate\u001b[0;34m(MME, X, Y, x_lat_dim, x_lon_dim, x_sample_dim, x_feature_dim, y_lat_dim, y_lon_dim, y_sample_dim, y_feature_dim, window, verbose, ND, lat_chunks, lon_chunks, parallel_in_memory, **kwargs)\u001b[0m\n\u001b[1;32m     26\u001b[0m                 \u001b[0mmme\u001b[0m  \u001b[0;34m=\u001b[0m \u001b[0mMME\u001b[0m\u001b[0;34m(\u001b[0m\u001b[0;34m**\u001b[0m\u001b[0mkwargs\u001b[0m\u001b[0;34m)\u001b[0m\u001b[0;34m\u001b[0m\u001b[0;34m\u001b[0m\u001b[0m\n\u001b[0;32m---> 27\u001b[0;31m                 \u001b[0mmme\u001b[0m\u001b[0;34m.\u001b[0m\u001b[0mfit\u001b[0m\u001b[0;34m(\u001b[0m\u001b[0mx_train\u001b[0m\u001b[0;34m,\u001b[0m \u001b[0my_train\u001b[0m\u001b[0;34m,\u001b[0m \u001b[0mx_lat_dim\u001b[0m\u001b[0;34m=\u001b[0m\u001b[0mx_lat_dim\u001b[0m\u001b[0;34m,\u001b[0m \u001b[0mx_lon_dim\u001b[0m\u001b[0;34m=\u001b[0m\u001b[0mx_lon_dim\u001b[0m\u001b[0;34m,\u001b[0m \u001b[0mx_sample_dim\u001b[0m\u001b[0;34m=\u001b[0m\u001b[0mx_sample_dim\u001b[0m\u001b[0;34m,\u001b[0m \u001b[0mx_feature_dim\u001b[0m\u001b[0;34m=\u001b[0m\u001b[0mx_feature_dim\u001b[0m\u001b[0;34m,\u001b[0m \u001b[0my_lat_dim\u001b[0m\u001b[0;34m=\u001b[0m\u001b[0my_lat_dim\u001b[0m\u001b[0;34m,\u001b[0m \u001b[0my_lon_dim\u001b[0m\u001b[0;34m=\u001b[0m\u001b[0my_lon_dim\u001b[0m\u001b[0;34m,\u001b[0m \u001b[0my_sample_dim\u001b[0m\u001b[0;34m=\u001b[0m\u001b[0my_sample_dim\u001b[0m\u001b[0;34m,\u001b[0m \u001b[0my_feature_dim\u001b[0m\u001b[0;34m=\u001b[0m\u001b[0my_feature_dim\u001b[0m\u001b[0;34m,\u001b[0m \u001b[0mlat_chunks\u001b[0m\u001b[0;34m=\u001b[0m\u001b[0mlat_chunks\u001b[0m\u001b[0;34m,\u001b[0m \u001b[0mlon_chunks\u001b[0m\u001b[0;34m=\u001b[0m\u001b[0mlon_chunks\u001b[0m\u001b[0;34m,\u001b[0m  \u001b[0mparallel_in_memory\u001b[0m\u001b[0;34m=\u001b[0m\u001b[0mparallel_in_memory\u001b[0m\u001b[0;34m)\u001b[0m\u001b[0;34m\u001b[0m\u001b[0;34m\u001b[0m\u001b[0m\n\u001b[0m\u001b[1;32m     28\u001b[0m                 \u001b[0mpreds\u001b[0m \u001b[0;34m=\u001b[0m \u001b[0mmme\u001b[0m\u001b[0;34m.\u001b[0m\u001b[0mpredict\u001b[0m\u001b[0;34m(\u001b[0m\u001b[0mx_test\u001b[0m\u001b[0;34m,\u001b[0m \u001b[0mx_lat_dim\u001b[0m\u001b[0;34m=\u001b[0m\u001b[0mx_lat_dim\u001b[0m\u001b[0;34m,\u001b[0m \u001b[0mx_lon_dim\u001b[0m\u001b[0;34m=\u001b[0m\u001b[0mx_lon_dim\u001b[0m\u001b[0;34m,\u001b[0m \u001b[0mx_sample_dim\u001b[0m\u001b[0;34m=\u001b[0m\u001b[0mx_sample_dim\u001b[0m\u001b[0;34m,\u001b[0m \u001b[0mx_feature_dim\u001b[0m\u001b[0;34m=\u001b[0m\u001b[0mx_feature_dim\u001b[0m\u001b[0;34m,\u001b[0m \u001b[0mlat_chunks\u001b[0m\u001b[0;34m=\u001b[0m\u001b[0mlat_chunks\u001b[0m\u001b[0;34m,\u001b[0m \u001b[0mlon_chunks\u001b[0m\u001b[0;34m=\u001b[0m\u001b[0mlon_chunks\u001b[0m\u001b[0;34m)\u001b[0m\u001b[0;34m\u001b[0m\u001b[0;34m\u001b[0m\u001b[0m\n",
      "\u001b[0;32m~/Projects/xcast/src/regression/regressors.py\u001b[0m in \u001b[0;36mfit\u001b[0;34m(self, X, Y, x_lat_dim, x_lon_dim, x_sample_dim, x_feature_dim, y_lat_dim, y_lon_dim, y_sample_dim, y_feature_dim, lat_chunks, lon_chunks, feat_chunks, samp_chunks, verbose, parallel_in_memory)\u001b[0m\n\u001b[1;32m    241\u001b[0m \u001b[0;34m\u001b[0m\u001b[0m\n\u001b[0;32m--> 242\u001b[0;31m                 \u001b[0msuper\u001b[0m\u001b[0;34m(\u001b[0m\u001b[0;34m)\u001b[0m\u001b[0;34m.\u001b[0m\u001b[0mfit\u001b[0m\u001b[0;34m(\u001b[0m\u001b[0mX1\u001b[0m\u001b[0;34m,\u001b[0m \u001b[0mY1\u001b[0m\u001b[0;34m,\u001b[0m \u001b[0mx_lat_dim\u001b[0m\u001b[0;34m,\u001b[0m \u001b[0mx_lon_dim\u001b[0m\u001b[0;34m,\u001b[0m  \u001b[0mx_sample_dim\u001b[0m\u001b[0;34m,\u001b[0m \u001b[0mx_feature_dim\u001b[0m \u001b[0;34m,\u001b[0m \u001b[0my_lat_dim\u001b[0m\u001b[0;34m,\u001b[0m \u001b[0my_lon_dim\u001b[0m\u001b[0;34m,\u001b[0m  \u001b[0my_sample_dim\u001b[0m\u001b[0;34m,\u001b[0m \u001b[0my_feature_dim\u001b[0m\u001b[0;34m,\u001b[0m  \u001b[0mlat_chunks\u001b[0m\u001b[0;34m=\u001b[0m\u001b[0mlat_chunks\u001b[0m\u001b[0;34m,\u001b[0m \u001b[0mlon_chunks\u001b[0m\u001b[0;34m=\u001b[0m\u001b[0mlon_chunks\u001b[0m\u001b[0;34m,\u001b[0m \u001b[0mfeat_chunks\u001b[0m\u001b[0;34m=\u001b[0m\u001b[0mfeat_chunks\u001b[0m\u001b[0;34m,\u001b[0m \u001b[0msamp_chunks\u001b[0m\u001b[0;34m=\u001b[0m\u001b[0msamp_chunks\u001b[0m\u001b[0;34m,\u001b[0m \u001b[0mverbose\u001b[0m\u001b[0;34m=\u001b[0m\u001b[0mverbose\u001b[0m\u001b[0;34m,\u001b[0m \u001b[0mparallel_in_memory\u001b[0m\u001b[0;34m=\u001b[0m\u001b[0mparallel_in_memory\u001b[0m\u001b[0;34m)\u001b[0m\u001b[0;34m\u001b[0m\u001b[0;34m\u001b[0m\u001b[0m\n\u001b[0m\u001b[1;32m    243\u001b[0m \u001b[0;34m\u001b[0m\u001b[0m\n",
      "\u001b[0;32m~/Projects/xcast/src/regression/base_regressor.py\u001b[0m in \u001b[0;36mfit\u001b[0;34m(self, X, Y, x_lat_dim, x_lon_dim, x_sample_dim, x_feature_dim, y_lat_dim, y_lon_dim, y_sample_dim, y_feature_dim, lat_chunks, lon_chunks, feat_chunks, samp_chunks, verbose, parallel_in_memory)\u001b[0m\n\u001b[1;32m     74\u001b[0m                         \u001b[0;32melse\u001b[0m\u001b[0;34m:\u001b[0m\u001b[0;34m\u001b[0m\u001b[0;34m\u001b[0m\u001b[0m\n\u001b[0;32m---> 75\u001b[0;31m                                 \u001b[0mself\u001b[0m\u001b[0;34m.\u001b[0m\u001b[0mmodels\u001b[0m \u001b[0;34m=\u001b[0m \u001b[0mda\u001b[0m\u001b[0;34m.\u001b[0m\u001b[0mmap_blocks\u001b[0m\u001b[0;34m(\u001b[0m\u001b[0mapply_fit_to_block\u001b[0m\u001b[0;34m,\u001b[0m \u001b[0mx_data\u001b[0m\u001b[0;34m,\u001b[0m \u001b[0my_data\u001b[0m\u001b[0;34m,\u001b[0m \u001b[0mdrop_axis\u001b[0m\u001b[0;34m=\u001b[0m\u001b[0;34m[\u001b[0m\u001b[0;36m2\u001b[0m\u001b[0;34m,\u001b[0m\u001b[0;36m3\u001b[0m\u001b[0;34m]\u001b[0m\u001b[0;34m,\u001b[0m \u001b[0mnew_axis\u001b[0m\u001b[0;34m=\u001b[0m\u001b[0;34m[\u001b[0m\u001b[0;36m3\u001b[0m\u001b[0;34m]\u001b[0m\u001b[0;34m,\u001b[0m \u001b[0mmme\u001b[0m\u001b[0;34m=\u001b[0m\u001b[0mself\u001b[0m\u001b[0;34m.\u001b[0m\u001b[0mmodel_type\u001b[0m\u001b[0;34m,\u001b[0m \u001b[0mND\u001b[0m\u001b[0;34m=\u001b[0m\u001b[0mself\u001b[0m\u001b[0;34m.\u001b[0m\u001b[0mND\u001b[0m\u001b[0;34m,\u001b[0m \u001b[0mkwargs\u001b[0m\u001b[0;34m=\u001b[0m\u001b[0mself\u001b[0m\u001b[0;34m.\u001b[0m\u001b[0mkwargs\u001b[0m\u001b[0;34m,\u001b[0m \u001b[0mmeta\u001b[0m\u001b[0;34m=\u001b[0m\u001b[0mnp\u001b[0m\u001b[0;34m.\u001b[0m\u001b[0marray\u001b[0m\u001b[0;34m(\u001b[0m\u001b[0;34m(\u001b[0m\u001b[0;34m)\u001b[0m\u001b[0;34m,\u001b[0m \u001b[0mdtype\u001b[0m\u001b[0;34m=\u001b[0m\u001b[0mnp\u001b[0m\u001b[0;34m.\u001b[0m\u001b[0mdtype\u001b[0m\u001b[0;34m(\u001b[0m\u001b[0;34m'O'\u001b[0m\u001b[0;34m)\u001b[0m\u001b[0;34m)\u001b[0m\u001b[0;34m)\u001b[0m\u001b[0;34m.\u001b[0m\u001b[0mcompute\u001b[0m\u001b[0;34m(\u001b[0m\u001b[0;34m)\u001b[0m\u001b[0;34m\u001b[0m\u001b[0;34m\u001b[0m\u001b[0m\n\u001b[0m\u001b[1;32m     76\u001b[0m                 \u001b[0;32melse\u001b[0m\u001b[0;34m:\u001b[0m\u001b[0;34m\u001b[0m\u001b[0;34m\u001b[0m\u001b[0m\n",
      "\u001b[0;32m~/opt/anaconda3/lib/python3.8/site-packages/dask/base.py\u001b[0m in \u001b[0;36mcompute\u001b[0;34m(self, **kwargs)\u001b[0m\n\u001b[1;32m    283\u001b[0m         \"\"\"\n\u001b[0;32m--> 284\u001b[0;31m         \u001b[0;34m(\u001b[0m\u001b[0mresult\u001b[0m\u001b[0;34m,\u001b[0m\u001b[0;34m)\u001b[0m \u001b[0;34m=\u001b[0m \u001b[0mcompute\u001b[0m\u001b[0;34m(\u001b[0m\u001b[0mself\u001b[0m\u001b[0;34m,\u001b[0m \u001b[0mtraverse\u001b[0m\u001b[0;34m=\u001b[0m\u001b[0;32mFalse\u001b[0m\u001b[0;34m,\u001b[0m \u001b[0;34m**\u001b[0m\u001b[0mkwargs\u001b[0m\u001b[0;34m)\u001b[0m\u001b[0;34m\u001b[0m\u001b[0;34m\u001b[0m\u001b[0m\n\u001b[0m\u001b[1;32m    285\u001b[0m         \u001b[0;32mreturn\u001b[0m \u001b[0mresult\u001b[0m\u001b[0;34m\u001b[0m\u001b[0;34m\u001b[0m\u001b[0m\n",
      "\u001b[0;32m~/opt/anaconda3/lib/python3.8/site-packages/dask/base.py\u001b[0m in \u001b[0;36mcompute\u001b[0;34m(*args, **kwargs)\u001b[0m\n\u001b[1;32m    565\u001b[0m \u001b[0;34m\u001b[0m\u001b[0m\n\u001b[0;32m--> 566\u001b[0;31m     \u001b[0mresults\u001b[0m \u001b[0;34m=\u001b[0m \u001b[0mschedule\u001b[0m\u001b[0;34m(\u001b[0m\u001b[0mdsk\u001b[0m\u001b[0;34m,\u001b[0m \u001b[0mkeys\u001b[0m\u001b[0;34m,\u001b[0m \u001b[0;34m**\u001b[0m\u001b[0mkwargs\u001b[0m\u001b[0;34m)\u001b[0m\u001b[0;34m\u001b[0m\u001b[0;34m\u001b[0m\u001b[0m\n\u001b[0m\u001b[1;32m    567\u001b[0m     \u001b[0;32mreturn\u001b[0m \u001b[0mrepack\u001b[0m\u001b[0;34m(\u001b[0m\u001b[0;34m[\u001b[0m\u001b[0mf\u001b[0m\u001b[0;34m(\u001b[0m\u001b[0mr\u001b[0m\u001b[0;34m,\u001b[0m \u001b[0;34m*\u001b[0m\u001b[0ma\u001b[0m\u001b[0;34m)\u001b[0m \u001b[0;32mfor\u001b[0m \u001b[0mr\u001b[0m\u001b[0;34m,\u001b[0m \u001b[0;34m(\u001b[0m\u001b[0mf\u001b[0m\u001b[0;34m,\u001b[0m \u001b[0ma\u001b[0m\u001b[0;34m)\u001b[0m \u001b[0;32min\u001b[0m \u001b[0mzip\u001b[0m\u001b[0;34m(\u001b[0m\u001b[0mresults\u001b[0m\u001b[0;34m,\u001b[0m \u001b[0mpostcomputes\u001b[0m\u001b[0;34m)\u001b[0m\u001b[0;34m]\u001b[0m\u001b[0;34m)\u001b[0m\u001b[0;34m\u001b[0m\u001b[0;34m\u001b[0m\u001b[0m\n",
      "\u001b[0;32m~/opt/anaconda3/lib/python3.8/site-packages/dask/threaded.py\u001b[0m in \u001b[0;36mget\u001b[0;34m(dsk, result, cache, num_workers, pool, **kwargs)\u001b[0m\n\u001b[1;32m     78\u001b[0m \u001b[0;34m\u001b[0m\u001b[0m\n\u001b[0;32m---> 79\u001b[0;31m     results = get_async(\n\u001b[0m\u001b[1;32m     80\u001b[0m         \u001b[0mpool\u001b[0m\u001b[0;34m.\u001b[0m\u001b[0msubmit\u001b[0m\u001b[0;34m,\u001b[0m\u001b[0;34m\u001b[0m\u001b[0;34m\u001b[0m\u001b[0m\n",
      "\u001b[0;32m~/opt/anaconda3/lib/python3.8/site-packages/dask/local.py\u001b[0m in \u001b[0;36mget_async\u001b[0;34m(submit, num_workers, dsk, result, cache, get_id, rerun_exceptions_locally, pack_exception, raise_exception, callbacks, dumps, loads, chunksize, **kwargs)\u001b[0m\n\u001b[1;32m    502\u001b[0m                 \u001b[0mfire_tasks\u001b[0m\u001b[0;34m(\u001b[0m\u001b[0mchunksize\u001b[0m\u001b[0;34m)\u001b[0m\u001b[0;34m\u001b[0m\u001b[0;34m\u001b[0m\u001b[0m\n\u001b[0;32m--> 503\u001b[0;31m                 \u001b[0;32mfor\u001b[0m \u001b[0mkey\u001b[0m\u001b[0;34m,\u001b[0m \u001b[0mres_info\u001b[0m\u001b[0;34m,\u001b[0m \u001b[0mfailed\u001b[0m \u001b[0;32min\u001b[0m \u001b[0mqueue_get\u001b[0m\u001b[0;34m(\u001b[0m\u001b[0mqueue\u001b[0m\u001b[0;34m)\u001b[0m\u001b[0;34m.\u001b[0m\u001b[0mresult\u001b[0m\u001b[0;34m(\u001b[0m\u001b[0;34m)\u001b[0m\u001b[0;34m:\u001b[0m\u001b[0;34m\u001b[0m\u001b[0;34m\u001b[0m\u001b[0m\n\u001b[0m\u001b[1;32m    504\u001b[0m                     \u001b[0;32mif\u001b[0m \u001b[0mfailed\u001b[0m\u001b[0;34m:\u001b[0m\u001b[0;34m\u001b[0m\u001b[0;34m\u001b[0m\u001b[0m\n",
      "\u001b[0;32m~/opt/anaconda3/lib/python3.8/site-packages/dask/local.py\u001b[0m in \u001b[0;36mqueue_get\u001b[0;34m(q)\u001b[0m\n\u001b[1;32m    133\u001b[0m     \u001b[0;32mdef\u001b[0m \u001b[0mqueue_get\u001b[0m\u001b[0;34m(\u001b[0m\u001b[0mq\u001b[0m\u001b[0;34m)\u001b[0m\u001b[0;34m:\u001b[0m\u001b[0;34m\u001b[0m\u001b[0;34m\u001b[0m\u001b[0m\n\u001b[0;32m--> 134\u001b[0;31m         \u001b[0;32mreturn\u001b[0m \u001b[0mq\u001b[0m\u001b[0;34m.\u001b[0m\u001b[0mget\u001b[0m\u001b[0;34m(\u001b[0m\u001b[0;34m)\u001b[0m\u001b[0;34m\u001b[0m\u001b[0;34m\u001b[0m\u001b[0m\n\u001b[0m\u001b[1;32m    135\u001b[0m \u001b[0;34m\u001b[0m\u001b[0m\n",
      "\u001b[0;32m~/opt/anaconda3/lib/python3.8/queue.py\u001b[0m in \u001b[0;36mget\u001b[0;34m(self, block, timeout)\u001b[0m\n\u001b[1;32m    169\u001b[0m                 \u001b[0;32mwhile\u001b[0m \u001b[0;32mnot\u001b[0m \u001b[0mself\u001b[0m\u001b[0;34m.\u001b[0m\u001b[0m_qsize\u001b[0m\u001b[0;34m(\u001b[0m\u001b[0;34m)\u001b[0m\u001b[0;34m:\u001b[0m\u001b[0;34m\u001b[0m\u001b[0;34m\u001b[0m\u001b[0m\n\u001b[0;32m--> 170\u001b[0;31m                     \u001b[0mself\u001b[0m\u001b[0;34m.\u001b[0m\u001b[0mnot_empty\u001b[0m\u001b[0;34m.\u001b[0m\u001b[0mwait\u001b[0m\u001b[0;34m(\u001b[0m\u001b[0;34m)\u001b[0m\u001b[0;34m\u001b[0m\u001b[0;34m\u001b[0m\u001b[0m\n\u001b[0m\u001b[1;32m    171\u001b[0m             \u001b[0;32melif\u001b[0m \u001b[0mtimeout\u001b[0m \u001b[0;34m<\u001b[0m \u001b[0;36m0\u001b[0m\u001b[0;34m:\u001b[0m\u001b[0;34m\u001b[0m\u001b[0;34m\u001b[0m\u001b[0m\n",
      "\u001b[0;32m~/opt/anaconda3/lib/python3.8/threading.py\u001b[0m in \u001b[0;36mwait\u001b[0;34m(self, timeout)\u001b[0m\n\u001b[1;32m    301\u001b[0m             \u001b[0;32mif\u001b[0m \u001b[0mtimeout\u001b[0m \u001b[0;32mis\u001b[0m \u001b[0;32mNone\u001b[0m\u001b[0;34m:\u001b[0m\u001b[0;34m\u001b[0m\u001b[0;34m\u001b[0m\u001b[0m\n\u001b[0;32m--> 302\u001b[0;31m                 \u001b[0mwaiter\u001b[0m\u001b[0;34m.\u001b[0m\u001b[0macquire\u001b[0m\u001b[0;34m(\u001b[0m\u001b[0;34m)\u001b[0m\u001b[0;34m\u001b[0m\u001b[0;34m\u001b[0m\u001b[0m\n\u001b[0m\u001b[1;32m    303\u001b[0m                 \u001b[0mgotit\u001b[0m \u001b[0;34m=\u001b[0m \u001b[0;32mTrue\u001b[0m\u001b[0;34m\u001b[0m\u001b[0;34m\u001b[0m\u001b[0m\n",
      "\u001b[0;31mKeyboardInterrupt\u001b[0m: ",
      "\nDuring handling of the above exception, another exception occurred:\n",
      "\u001b[0;31mAttributeError\u001b[0m                            Traceback (most recent call last)",
      "\u001b[0;32m~/opt/anaconda3/lib/python3.8/site-packages/IPython/core/interactiveshell.py\u001b[0m in \u001b[0;36mshowtraceback\u001b[0;34m(self, exc_tuple, filename, tb_offset, exception_only, running_compiled_code)\u001b[0m\n\u001b[1;32m   2060\u001b[0m                         \u001b[0;31m# in the engines. This should return a list of strings.\u001b[0m\u001b[0;34m\u001b[0m\u001b[0;34m\u001b[0m\u001b[0;34m\u001b[0m\u001b[0m\n\u001b[0;32m-> 2061\u001b[0;31m                         \u001b[0mstb\u001b[0m \u001b[0;34m=\u001b[0m \u001b[0mvalue\u001b[0m\u001b[0;34m.\u001b[0m\u001b[0m_render_traceback_\u001b[0m\u001b[0;34m(\u001b[0m\u001b[0;34m)\u001b[0m\u001b[0;34m\u001b[0m\u001b[0;34m\u001b[0m\u001b[0m\n\u001b[0m\u001b[1;32m   2062\u001b[0m                     \u001b[0;32mexcept\u001b[0m \u001b[0mException\u001b[0m\u001b[0;34m:\u001b[0m\u001b[0;34m\u001b[0m\u001b[0;34m\u001b[0m\u001b[0m\n",
      "\u001b[0;31mAttributeError\u001b[0m: 'KeyboardInterrupt' object has no attribute '_render_traceback_'",
      "\nDuring handling of the above exception, another exception occurred:\n",
      "\u001b[0;31mTypeError\u001b[0m                                 Traceback (most recent call last)",
      "    \u001b[0;31m[... skipping hidden 1 frame]\u001b[0m\n",
      "\u001b[0;32m~/opt/anaconda3/lib/python3.8/site-packages/IPython/core/interactiveshell.py\u001b[0m in \u001b[0;36mshowtraceback\u001b[0;34m(self, exc_tuple, filename, tb_offset, exception_only, running_compiled_code)\u001b[0m\n\u001b[1;32m   2061\u001b[0m                         \u001b[0mstb\u001b[0m \u001b[0;34m=\u001b[0m \u001b[0mvalue\u001b[0m\u001b[0;34m.\u001b[0m\u001b[0m_render_traceback_\u001b[0m\u001b[0;34m(\u001b[0m\u001b[0;34m)\u001b[0m\u001b[0;34m\u001b[0m\u001b[0;34m\u001b[0m\u001b[0m\n\u001b[1;32m   2062\u001b[0m                     \u001b[0;32mexcept\u001b[0m \u001b[0mException\u001b[0m\u001b[0;34m:\u001b[0m\u001b[0;34m\u001b[0m\u001b[0;34m\u001b[0m\u001b[0m\n\u001b[0;32m-> 2063\u001b[0;31m                         stb = self.InteractiveTB.structured_traceback(etype,\n\u001b[0m\u001b[1;32m   2064\u001b[0m                                             value, tb, tb_offset=tb_offset)\n\u001b[1;32m   2065\u001b[0m \u001b[0;34m\u001b[0m\u001b[0m\n",
      "\u001b[0;32m~/opt/anaconda3/lib/python3.8/site-packages/IPython/core/ultratb.py\u001b[0m in \u001b[0;36mstructured_traceback\u001b[0;34m(self, etype, value, tb, tb_offset, number_of_lines_of_context)\u001b[0m\n\u001b[1;32m   1365\u001b[0m         \u001b[0;32melse\u001b[0m\u001b[0;34m:\u001b[0m\u001b[0;34m\u001b[0m\u001b[0;34m\u001b[0m\u001b[0m\n\u001b[1;32m   1366\u001b[0m             \u001b[0mself\u001b[0m\u001b[0;34m.\u001b[0m\u001b[0mtb\u001b[0m \u001b[0;34m=\u001b[0m \u001b[0mtb\u001b[0m\u001b[0;34m\u001b[0m\u001b[0;34m\u001b[0m\u001b[0m\n\u001b[0;32m-> 1367\u001b[0;31m         return FormattedTB.structured_traceback(\n\u001b[0m\u001b[1;32m   1368\u001b[0m             self, etype, value, tb, tb_offset, number_of_lines_of_context)\n\u001b[1;32m   1369\u001b[0m \u001b[0;34m\u001b[0m\u001b[0m\n",
      "\u001b[0;32m~/opt/anaconda3/lib/python3.8/site-packages/IPython/core/ultratb.py\u001b[0m in \u001b[0;36mstructured_traceback\u001b[0;34m(self, etype, value, tb, tb_offset, number_of_lines_of_context)\u001b[0m\n\u001b[1;32m   1265\u001b[0m         \u001b[0;32mif\u001b[0m \u001b[0mmode\u001b[0m \u001b[0;32min\u001b[0m \u001b[0mself\u001b[0m\u001b[0;34m.\u001b[0m\u001b[0mverbose_modes\u001b[0m\u001b[0;34m:\u001b[0m\u001b[0;34m\u001b[0m\u001b[0;34m\u001b[0m\u001b[0m\n\u001b[1;32m   1266\u001b[0m             \u001b[0;31m# Verbose modes need a full traceback\u001b[0m\u001b[0;34m\u001b[0m\u001b[0;34m\u001b[0m\u001b[0;34m\u001b[0m\u001b[0m\n\u001b[0;32m-> 1267\u001b[0;31m             return VerboseTB.structured_traceback(\n\u001b[0m\u001b[1;32m   1268\u001b[0m                 \u001b[0mself\u001b[0m\u001b[0;34m,\u001b[0m \u001b[0metype\u001b[0m\u001b[0;34m,\u001b[0m \u001b[0mvalue\u001b[0m\u001b[0;34m,\u001b[0m \u001b[0mtb\u001b[0m\u001b[0;34m,\u001b[0m \u001b[0mtb_offset\u001b[0m\u001b[0;34m,\u001b[0m \u001b[0mnumber_of_lines_of_context\u001b[0m\u001b[0;34m\u001b[0m\u001b[0;34m\u001b[0m\u001b[0m\n\u001b[1;32m   1269\u001b[0m             )\n",
      "\u001b[0;32m~/opt/anaconda3/lib/python3.8/site-packages/IPython/core/ultratb.py\u001b[0m in \u001b[0;36mstructured_traceback\u001b[0;34m(self, etype, evalue, etb, tb_offset, number_of_lines_of_context)\u001b[0m\n\u001b[1;32m   1122\u001b[0m         \u001b[0;34m\"\"\"Return a nice text document describing the traceback.\"\"\"\u001b[0m\u001b[0;34m\u001b[0m\u001b[0;34m\u001b[0m\u001b[0m\n\u001b[1;32m   1123\u001b[0m \u001b[0;34m\u001b[0m\u001b[0m\n\u001b[0;32m-> 1124\u001b[0;31m         formatted_exception = self.format_exception_as_a_whole(etype, evalue, etb, number_of_lines_of_context,\n\u001b[0m\u001b[1;32m   1125\u001b[0m                                                                tb_offset)\n\u001b[1;32m   1126\u001b[0m \u001b[0;34m\u001b[0m\u001b[0m\n",
      "\u001b[0;32m~/opt/anaconda3/lib/python3.8/site-packages/IPython/core/ultratb.py\u001b[0m in \u001b[0;36mformat_exception_as_a_whole\u001b[0;34m(self, etype, evalue, etb, number_of_lines_of_context, tb_offset)\u001b[0m\n\u001b[1;32m   1080\u001b[0m \u001b[0;34m\u001b[0m\u001b[0m\n\u001b[1;32m   1081\u001b[0m \u001b[0;34m\u001b[0m\u001b[0m\n\u001b[0;32m-> 1082\u001b[0;31m         \u001b[0mlast_unique\u001b[0m\u001b[0;34m,\u001b[0m \u001b[0mrecursion_repeat\u001b[0m \u001b[0;34m=\u001b[0m \u001b[0mfind_recursion\u001b[0m\u001b[0;34m(\u001b[0m\u001b[0morig_etype\u001b[0m\u001b[0;34m,\u001b[0m \u001b[0mevalue\u001b[0m\u001b[0;34m,\u001b[0m \u001b[0mrecords\u001b[0m\u001b[0;34m)\u001b[0m\u001b[0;34m\u001b[0m\u001b[0;34m\u001b[0m\u001b[0m\n\u001b[0m\u001b[1;32m   1083\u001b[0m \u001b[0;34m\u001b[0m\u001b[0m\n\u001b[1;32m   1084\u001b[0m         \u001b[0mframes\u001b[0m \u001b[0;34m=\u001b[0m \u001b[0mself\u001b[0m\u001b[0;34m.\u001b[0m\u001b[0mformat_records\u001b[0m\u001b[0;34m(\u001b[0m\u001b[0mrecords\u001b[0m\u001b[0;34m,\u001b[0m \u001b[0mlast_unique\u001b[0m\u001b[0;34m,\u001b[0m \u001b[0mrecursion_repeat\u001b[0m\u001b[0;34m)\u001b[0m\u001b[0;34m\u001b[0m\u001b[0;34m\u001b[0m\u001b[0m\n",
      "\u001b[0;32m~/opt/anaconda3/lib/python3.8/site-packages/IPython/core/ultratb.py\u001b[0m in \u001b[0;36mfind_recursion\u001b[0;34m(etype, value, records)\u001b[0m\n\u001b[1;32m    380\u001b[0m     \u001b[0;31m# first frame (from in to out) that looks different.\u001b[0m\u001b[0;34m\u001b[0m\u001b[0;34m\u001b[0m\u001b[0;34m\u001b[0m\u001b[0m\n\u001b[1;32m    381\u001b[0m     \u001b[0;32mif\u001b[0m \u001b[0;32mnot\u001b[0m \u001b[0mis_recursion_error\u001b[0m\u001b[0;34m(\u001b[0m\u001b[0metype\u001b[0m\u001b[0;34m,\u001b[0m \u001b[0mvalue\u001b[0m\u001b[0;34m,\u001b[0m \u001b[0mrecords\u001b[0m\u001b[0;34m)\u001b[0m\u001b[0;34m:\u001b[0m\u001b[0;34m\u001b[0m\u001b[0;34m\u001b[0m\u001b[0m\n\u001b[0;32m--> 382\u001b[0;31m         \u001b[0;32mreturn\u001b[0m \u001b[0mlen\u001b[0m\u001b[0;34m(\u001b[0m\u001b[0mrecords\u001b[0m\u001b[0;34m)\u001b[0m\u001b[0;34m,\u001b[0m \u001b[0;36m0\u001b[0m\u001b[0;34m\u001b[0m\u001b[0;34m\u001b[0m\u001b[0m\n\u001b[0m\u001b[1;32m    383\u001b[0m \u001b[0;34m\u001b[0m\u001b[0m\n\u001b[1;32m    384\u001b[0m     \u001b[0;31m# Select filename, lineno, func_name to track frames with\u001b[0m\u001b[0;34m\u001b[0m\u001b[0;34m\u001b[0m\u001b[0;34m\u001b[0m\u001b[0m\n",
      "\u001b[0;31mTypeError\u001b[0m: object of type 'NoneType' has no len()"
     ]
    }
   ],
   "source": [
    "%%timeit\n",
    "rf = xc.cross_validate(xc.RandomForest, X_TRAIN.prec, Y.prate, x_sample_dim='S', verbose=2, window=5, ND=10, lat_chunks=4, lon_chunks=4 )"
   ]
  },
  {
   "cell_type": "code",
   "execution_count": 2,
   "metadata": {},
   "outputs": [
    {
     "name": "stderr",
     "output_type": "stream",
     "text": [
      "UsageError: Line magic function `%%timeit` not found.\n"
     ]
    }
   ],
   "source": [
    "#mlp = xc.cross_validate(xc.MultiLayerPerceptron, X_TRAIN.prec, Y.prate, x_sample_dim='S', verbose=2, window=5, ND=1, max_iter=10, lat_chunks=4, lon_chunks=4)\n",
    "#mlr = xc.cross_validate(xc.MultipleLinearRegression, X_TRAIN.prec, Y.prate, x_sample_dim='S', verbose=2, window=5, ND=1, lat_chunks=4, lon_chunks=4)\n",
    "\n",
    "#em = xr.open_dataset('test_data/ensemble_mean_xval_hcst.nc', decode_times=False)\n",
    "#elm = xr.open_dataset('test_data/extreme_learning_machine_xval_hcst.nc', decode_times=False)\n",
    "#rf = xr.open_dataset('test_data/random_forest_xval_hcst.nc', decode_times=False)\n",
    "#mlr = xr.open_dataset('test_data/multiple_linear_regression_xval_hcst.nc', decode_times=False)\n",
    "#mlp = xr.open_dataset('test_data/multilayer_perceptron_xval_hcst.nc', decode_times=False)\n",
    "\n",
    "# Apply smoothing to each result's hcst-mean & std-dev\n",
    "em_sm = em.hindcasts #xc.gaussian_smooth(em.hindcasts, x_sample_dim='S')\n",
    "elm_sm = elm.hindcasts #xc.gaussian_smooth(elm.hindcasts, x_sample_dim='S')\n",
    "rf_sm = rf.hindcasts #xc.gaussian_smooth(rf.hindcasts, x_sample_dim='S')\n",
    "mlr_sm = mlr.hindcasts # xc.gaussian_smooth(mlr.hindcasts, x_sample_dim='S')\n",
    "mlp_sm = mlp.hindcasts # xc.gaussian_smooth(mlp.hindcasts, x_sample_dim='S')\n",
    "\n",
    "em_sm_sd = em.nd_stddev #xc.gaussian_smooth(em.nd_stddev, x_sample_dim='S')\n",
    "elm_sm_sd = elm.nd_stddev # xc.gaussian_smooth(elm.nd_stddev, x_sample_dim='S')\n",
    "rf_sm_sd =  rf.nd_stddev #xc.gaussian_smooth(rf.nd_stddev, x_sample_dim='S')\n",
    "mlr_sm_sd = mlr.nd_stddev #xc.gaussian_smooth(mlr.nd_stddev, x_sample_dim='S')\n",
    "mlp_sm_sd = mlp.nd_stddev #xc.gaussian_smooth(mlp.nd_stddev, x_sample_dim='S')\n",
    "\n",
    "# Calculate skill of each smoothed hindcast mean against the predictand dataset\n",
    "em_skill = xc.deterministic_skill(em_sm, Y.prate, x_sample_dim='S')\n",
    "elm_skill = xc.deterministic_skill(elm_sm, Y.prate, x_sample_dim='S')\n",
    "rf_skill = xc.deterministic_skill(rf_sm, Y.prate, x_sample_dim='S')\n",
    "mlr_skill = xc.deterministic_skill(mlr_sm, Y.prate, x_sample_dim='S')\n",
    "mlp_skill = xc.deterministic_skill(mlp_sm, Y.prate, x_sample_dim='S')"
   ]
  },
  {
   "cell_type": "markdown",
   "metadata": {},
   "source": [
    "### Predictands and Predictors"
   ]
  },
  {
   "cell_type": "code",
   "execution_count": null,
   "metadata": {},
   "outputs": [],
   "source": [
    "plots = [[Y.prate.mean('T').mean('M').sel(X=slice(65,95), Y=slice(0,40)), cansipsv2.prec.mean('S').sel(X=slice(65,95), Y=slice(0,40)), cfsv2.prec.mean('S').sel(X=slice(65,95), Y=slice(0,40)), cola.prec.mean('S').sel(X=slice(65,95), Y=slice(0,40))],\n",
    "        [Y.prate.std('T').mean('M').sel(X=slice(65,95), Y=slice(0,40)),  cansipsv2.prec.std('S').sel(X=slice(65,95), Y=slice(0,40)), cfsv2.prec.std('S').sel(X=slice(65,95), Y=slice(0,40)), cola.prec.std('S').sel(X=slice(65,95), Y=slice(0,40))]]\n",
    "titles = ['CPC-CMAP-URD PRATE', 'CanSIPSv2 Precipitation', 'NCEP-CFSv2 Precipitation', 'COLA-RSMAS-CCSM4 Precipitation']\n",
    "variables = ['Climatological Mean', 'Climatological Std. Dev.']\n",
    "vmax = [2000, 800]\n",
    "cmaps = ['BrBG', 'Oranges']\n",
    "fig, axes = plt.subplots(nrows=2, ncols=4, sharex=True, subplot_kw={'projection':ccrs.PlateCarree()}, figsize=(24, 12))\n",
    "\n",
    "for i in range(len(plots)):\n",
    "    axes[i][0].text(-0.35,0.5,variables[i],rotation=90,verticalalignment='center', transform=axes[i][0].transAxes)\n",
    "    for j in range(len(plots[0])):\n",
    "        axes[0][j].set_title(titles[j])\n",
    "        plots[i][j].plot(ax=axes[i][j], cmap=cmaps[i])\n",
    "        axes[i][j].coastlines()\n",
    "        gl = axes[i][j].gridlines()\n",
    "        gl.xlabels_bottom, gl.ylabels_left = True, True"
   ]
  },
  {
   "cell_type": "markdown",
   "metadata": {},
   "source": [
    "### Hindcast Climatology & Variation\n",
    "Let's start by examining the mean and standard variation of the crossvalidated hindcasts. "
   ]
  },
  {
   "cell_type": "code",
   "execution_count": null,
   "metadata": {},
   "outputs": [],
   "source": [
    "plots = [[Y.prate.mean('T').mean('M'), em_sm.mean('S').mean('M'), elm_sm.mean('S').mean('M'), rf_sm.mean('S').mean('M'), mlr_sm.mean('S').mean('M'), mlp_sm.mean('S').mean('M')],\n",
    "        [Y.prate.std('T').mean('M'), em_sm.std('S').mean('M'), elm_sm.std('S').mean('M'), rf_sm.std('S').mean('M'), mlr_sm.std('S').mean('M'), mlp_sm.std('S').mean('M')],\n",
    "        [Y.prate.std('T').mean('M')-Y.prate.std('T').mean('M'), em_sm_sd.mean('S').mean('M'), elm_sm_sd.mean('S').mean('M'), rf_sm_sd.mean('S').mean('M'), mlr_sm_sd.mean('S').mean('M'), mlp_sm_sd.mean('S').mean('M')]]\n",
    "titles = ['Observations', 'Ensemble Mean', 'Extreme Learning Machine', 'Random Forest', 'Multiple Linear Regression', 'Multi-Layer Perceptron']\n",
    "variables = ['Climatology', 'Std. Dev.', 'ND StdDev']\n",
    "vmax = [2000, 800, 150]\n",
    "cmaps = ['BrBG', 'Oranges', 'RdBu']\n",
    "fig, axes = plt.subplots(nrows=3, ncols=6, sharex=True, subplot_kw={'projection':ccrs.PlateCarree()}, figsize=(24, 12))\n",
    "\n",
    "for i in range(len(plots)):\n",
    "    axes[i][0].text(-0.35,0.5,variables[i],rotation=90,verticalalignment='center', transform=axes[i][0].transAxes)\n",
    "    for j in range(len(plots[0])):\n",
    "        axes[0][j].set_title(titles[j])\n",
    "        plots[i][j].plot(ax=axes[i][j], cmap=cmaps[i], vmin=0, vmax=vmax[i])\n",
    "        axes[i][j].coastlines()\n",
    "        gl = axes[i][j].gridlines()\n",
    "        gl.xlabels_bottom, gl.ylabels_left = True, True\n",
    "        \n",
    "        \n"
   ]
  },
  {
   "cell_type": "markdown",
   "metadata": {},
   "source": [
    "### Skill Metrics \n",
    "Here we plot skill metrics calculated with the XCast.deterministic_skill function, between the cross-validated hindcasts and the predictand dataset. This function uses the [XSkillScore](https://xskillscore.readthedocs.io/en/stable/) deterministic functions to compute all skill scores. "
   ]
  },
  {
   "cell_type": "code",
   "execution_count": null,
   "metadata": {},
   "outputs": [],
   "source": [
    "plots = [[em_skill.pearson_coefficient.mean('member'), elm_skill.pearson_coefficient.mean('member'), rf_skill.pearson_coefficient.mean('member'), mlr_skill.pearson_coefficient.mean('member'), mlp_skill.pearson_coefficient.mean('member')], \n",
    "        [em_skill.root_mean_squared_error.mean('member'), elm_skill.root_mean_squared_error.mean('member'), rf_skill.root_mean_squared_error.mean('member'), mlr_skill.root_mean_squared_error.mean('member'), mlp_skill.root_mean_squared_error.mean('member')], \n",
    "        [em_skill.mean_absolute_error.mean('member'), elm_skill.mean_absolute_error.mean('member'), rf_skill.mean_absolute_error.mean('member'), mlr_skill.mean_absolute_error.mean('member'), mlp_skill.mean_absolute_error.mean('member')],\n",
    "        [em_skill.determination_coefficient.mean('member'), elm_skill.determination_coefficient.mean('member'), rf_skill.determination_coefficient.mean('member'), mlr_skill.determination_coefficient.mean('member'), mlp_skill.determination_coefficient.mean('member')]]\n",
    "titles = ['Ensemble Mean', 'Extreme Learning Machine', 'Random Forest', 'Multiple Linear Regression', 'Multi-Layer Perceptron']\n",
    "variables = ['Pearson Coefficient', 'Root Mean Squared Error', 'Mean Absolute Error', 'Determination Coefficient']\n",
    "vmins, vmaxs = [-1, 0, 0, -1], [1, 800, 400, 1]\n",
    "cmaps = ['RdBu', 'RdBu', 'RdBu', 'RdBu']\n",
    "fig, axes = plt.subplots(nrows=4, ncols=5, sharex=True, subplot_kw={'projection':ccrs.PlateCarree()}, figsize=(24, 16))\n",
    "\n",
    "for i in range(len(plots)):\n",
    "    axes[i][0].text(-0.35,0.5,variables[i],rotation=90,verticalalignment='center', transform=axes[i][0].transAxes)\n",
    "    for j in range(len(plots[0])):\n",
    "        axes[0][j].set_title(titles[j])\n",
    "        plots[i][j].plot(ax=axes[i][j], cmap=cmaps[i], vmin=vmins[i], vmax=vmaxs[i])\n",
    "        axes[i][j].coastlines()\n",
    "        gl = axes[i][j].gridlines()\n",
    "        gl.xlabels_bottom, gl.ylabels_left = True, True\n",
    "        "
   ]
  },
  {
   "cell_type": "markdown",
   "metadata": {},
   "source": [
    "### Point Skill & Point Hindcasts\n",
    "We can also examine skill and hindcasts at a single point or over an aggregation of a region of space. Based on the above, it looks like there should be some skill in the South of India for this forecast, so we will aggregate over the region LAT 10:15 and LON 75:80, then calculate skill. "
   ]
  },
  {
   "cell_type": "code",
   "execution_count": null,
   "metadata": {},
   "outputs": [],
   "source": [
    "south_india_obs = Y.prate.sel(X=slice(75, 80), Y=slice(10,15)).mean('X').mean('Y').expand_dims({'X':[0], 'Y':[0]})\n",
    "south_india_obs.coords['T'] = em_sm.coords['S'].values\n",
    "south_india_em = em_sm.sel(X=slice(75, 80), Y=slice(10,15)).mean('X').mean('Y').expand_dims({'X':[0], 'Y':[0]})\n",
    "south_india_elm = elm_sm.sel(X=slice(75, 80), Y=slice(10,15)).mean('X').mean('Y').expand_dims({'X':[0], 'Y':[0]})\n",
    "south_india_rf = rf_sm.sel(X=slice(75, 80), Y=slice(10,15)).mean('X').mean('Y').expand_dims({'X':[0], 'Y':[0]})\n",
    "south_india_mlr = mlr_sm.sel(X=slice(75, 80), Y=slice(10,15)).mean('X').mean('Y').expand_dims({'X':[0], 'Y':[0]})\n",
    "south_india_mlp = mlp_sm.sel(X=slice(75, 80), Y=slice(10,15)).mean('X').mean('Y').expand_dims({'X':[0], 'Y':[0]})\n",
    "\n",
    "hcsts  = xr.concat([south_india_obs.rename({'T':'S'}), south_india_em, south_india_elm, south_india_rf, south_india_mlr, south_india_mlp], 'method').assign_coords({'method':['Obs', 'EM', 'ELM', 'RF', 'MLR', 'MLP']})\n",
    "x = hcsts.isel(X=0, Y=0, M=0).plot.line(x='S', hue='method')"
   ]
  },
  {
   "cell_type": "code",
   "execution_count": null,
   "metadata": {},
   "outputs": [],
   "source": [
    "south_india_mlp.std('S').mean('X').mean('Y')\n"
   ]
  },
  {
   "cell_type": "code",
   "execution_count": null,
   "metadata": {},
   "outputs": [],
   "source": [
    "em_skill_si = xc.deterministic_skill(south_india_em, south_india_obs, x_sample_dim='S').mean('lon').mean('lat').mean('member')\n",
    "elm_skill_si = xc.deterministic_skill(south_india_elm, south_india_obs, x_sample_dim='S').mean('lon').mean('lat').mean('member')\n",
    "rf_skill_si = xc.deterministic_skill(south_india_rf, south_india_obs, x_sample_dim='S').mean('lon').mean('lat').mean('member')\n",
    "mlr_skill_si = xc.deterministic_skill(south_india_mlr, south_india_obs, x_sample_dim='S').mean('lon').mean('lat').mean('member')\n",
    "mlp_skill_si = xc.deterministic_skill(south_india_mlp, south_india_obs, x_sample_dim='S').mean('lon').mean('lat').mean('member')\n",
    "\n",
    "south_india_skills = xr.concat([em_skill_si, elm_skill_si, rf_skill_si, mlr_skill_si, mlp_skill_si], 'method').assign_coords({'method':[ 'EM', 'ELM', 'RF', 'MLR', 'MLP']})\n",
    "south_india_skills"
   ]
  },
  {
   "cell_type": "code",
   "execution_count": null,
   "metadata": {},
   "outputs": [],
   "source": []
  }
 ],
 "metadata": {
  "kernelspec": {
   "display_name": "Python (main)",
   "language": "python",
   "name": "main"
  },
  "language_info": {
   "codemirror_mode": {
    "name": "ipython",
    "version": 3
   },
   "file_extension": ".py",
   "mimetype": "text/x-python",
   "name": "python",
   "nbconvert_exporter": "python",
   "pygments_lexer": "ipython3",
   "version": "3.9.7"
  }
 },
 "nbformat": 4,
 "nbformat_minor": 5
}
