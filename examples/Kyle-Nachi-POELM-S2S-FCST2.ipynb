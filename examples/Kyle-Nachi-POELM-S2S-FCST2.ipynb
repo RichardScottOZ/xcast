{
 "cells": [
  {
   "cell_type": "code",
   "execution_count": 3,
   "id": "71d98540",
   "metadata": {},
   "outputs": [],
   "source": [
    "import xcast as xc \n",
    "import xarray as xr \n",
    "import pandas as pd\n",
    "import numpy as np\n",
    "from dask.distributed import Client\n",
    "import datetime as dt"
   ]
  },
  {
   "cell_type": "code",
   "execution_count": 7,
   "id": "cebe5c91",
   "metadata": {},
   "outputs": [],
   "source": [
    "variables = ['tp', 't2m']\n",
    "leads = [ [14, 28], [28, 42] ]\n",
    "fullvar = {'tp':'precip', 't2m':'temp'}"
   ]
  },
  {
   "cell_type": "code",
   "execution_count": 8,
   "id": "a80d4c4b",
   "metadata": {},
   "outputs": [
    {
     "name": "stdout",
     "output_type": "stream",
     "text": [
      "2021-10-31 15:58:53.166332 LOADING HINDCAST DATA FOR TP FOR TARGET 0\n",
      "2021-10-31 15:58:59.401789 STARTING POELM CROSS VALIDATION FOR TP FOR TARGET 0\n",
      " CROSSVALIDATING pPOELM:  [                         ] (0/12) 0:00:00.000015\r"
     ]
    },
    {
     "ename": "UnboundLocalError",
     "evalue": "local variable 'X1' referenced before assignment",
     "output_type": "error",
     "traceback": [
      "\u001b[0;31m---------------------------------------------------------------------------\u001b[0m",
      "\u001b[0;31mUnboundLocalError\u001b[0m                         Traceback (most recent call last)",
      "\u001b[0;32m/var/folders/qb/s74vn86n1yj5plf49bs1sygr0000gn/T/ipykernel_24341/3201707276.py\u001b[0m in \u001b[0;36m<module>\u001b[0;34m\u001b[0m\n\u001b[1;32m     38\u001b[0m         \u001b[0mprint\u001b[0m\u001b[0;34m(\u001b[0m\u001b[0;34m'{} STARTING POELM CROSS VALIDATION FOR {} FOR TARGET {}'\u001b[0m\u001b[0;34m.\u001b[0m\u001b[0mformat\u001b[0m\u001b[0;34m(\u001b[0m\u001b[0mdt\u001b[0m\u001b[0;34m.\u001b[0m\u001b[0mdatetime\u001b[0m\u001b[0;34m.\u001b[0m\u001b[0mnow\u001b[0m\u001b[0;34m(\u001b[0m\u001b[0;34m)\u001b[0m\u001b[0;34m,\u001b[0m \u001b[0mvar\u001b[0m\u001b[0;34m.\u001b[0m\u001b[0mupper\u001b[0m\u001b[0;34m(\u001b[0m\u001b[0;34m)\u001b[0m\u001b[0;34m,\u001b[0m \u001b[0mv\u001b[0m\u001b[0;34m)\u001b[0m\u001b[0;34m)\u001b[0m\u001b[0;34m\u001b[0m\u001b[0;34m\u001b[0m\u001b[0m\n\u001b[1;32m     39\u001b[0m \u001b[0;34m\u001b[0m\u001b[0m\n\u001b[0;32m---> 40\u001b[0;31m         \u001b[0mpoelm_hindcasts\u001b[0m \u001b[0;34m=\u001b[0m \u001b[0mxc\u001b[0m\u001b[0;34m.\u001b[0m\u001b[0mcross_validate\u001b[0m\u001b[0;34m(\u001b[0m\u001b[0mxc\u001b[0m\u001b[0;34m.\u001b[0m\u001b[0mpPOELM\u001b[0m\u001b[0;34m,\u001b[0m \u001b[0mX\u001b[0m\u001b[0;34m,\u001b[0m \u001b[0mY\u001b[0m\u001b[0;34m,\u001b[0m  \u001b[0mx_sample_dim\u001b[0m\u001b[0;34m=\u001b[0m\u001b[0;34m'forecast_time'\u001b[0m\u001b[0;34m,\u001b[0m \u001b[0mx_lat_dim\u001b[0m\u001b[0;34m=\u001b[0m\u001b[0;34m'latitude'\u001b[0m\u001b[0;34m,\u001b[0m \u001b[0mx_lon_dim\u001b[0m\u001b[0;34m=\u001b[0m\u001b[0;34m'longitude'\u001b[0m\u001b[0;34m,\u001b[0m \u001b[0my_sample_dim\u001b[0m\u001b[0;34m=\u001b[0m\u001b[0;34m'forecast_time'\u001b[0m\u001b[0;34m,\u001b[0m \u001b[0my_lat_dim\u001b[0m\u001b[0;34m=\u001b[0m\u001b[0;34m'latitude'\u001b[0m\u001b[0;34m,\u001b[0m \u001b[0my_lon_dim\u001b[0m\u001b[0;34m=\u001b[0m\u001b[0;34m'longitude'\u001b[0m\u001b[0;34m,\u001b[0m \u001b[0mND\u001b[0m\u001b[0;34m=\u001b[0m\u001b[0;36m5\u001b[0m\u001b[0;34m,\u001b[0m \u001b[0mhidden_layer_size\u001b[0m\u001b[0;34m=\u001b[0m\u001b[0;36m5\u001b[0m\u001b[0;34m,\u001b[0m \u001b[0mwindow\u001b[0m\u001b[0;34m=\u001b[0m\u001b[0;36m53\u001b[0m\u001b[0;34m,\u001b[0m \u001b[0mverbose\u001b[0m\u001b[0;34m=\u001b[0m\u001b[0;32mTrue\u001b[0m\u001b[0;34m)\u001b[0m\u001b[0;34m\u001b[0m\u001b[0;34m\u001b[0m\u001b[0m\n\u001b[0m\u001b[1;32m     41\u001b[0m         \u001b[0mclimatology_hcsts\u001b[0m \u001b[0;34m=\u001b[0m \u001b[0mxr\u001b[0m\u001b[0;34m.\u001b[0m\u001b[0mones_like\u001b[0m\u001b[0;34m(\u001b[0m\u001b[0mpoelm_hindcasts\u001b[0m\u001b[0;34m.\u001b[0m\u001b[0mhindcasts\u001b[0m\u001b[0;34m)\u001b[0m \u001b[0;34m*\u001b[0m \u001b[0;36m0.33\u001b[0m\u001b[0;34m\u001b[0m\u001b[0;34m\u001b[0m\u001b[0m\n\u001b[1;32m     42\u001b[0m         \u001b[0mprint\u001b[0m\u001b[0;34m(\u001b[0m\u001b[0;34m'\\n{} FINISHED POELM CROSS VALIDATION FOR {} FOR TARGET {}'\u001b[0m\u001b[0;34m.\u001b[0m\u001b[0mformat\u001b[0m\u001b[0;34m(\u001b[0m\u001b[0mdt\u001b[0m\u001b[0;34m.\u001b[0m\u001b[0mdatetime\u001b[0m\u001b[0;34m.\u001b[0m\u001b[0mnow\u001b[0m\u001b[0;34m(\u001b[0m\u001b[0;34m)\u001b[0m\u001b[0;34m,\u001b[0m \u001b[0mvar\u001b[0m\u001b[0;34m.\u001b[0m\u001b[0mupper\u001b[0m\u001b[0;34m(\u001b[0m\u001b[0;34m)\u001b[0m\u001b[0;34m,\u001b[0m \u001b[0mv\u001b[0m\u001b[0;34m)\u001b[0m\u001b[0;34m)\u001b[0m\u001b[0;34m\u001b[0m\u001b[0;34m\u001b[0m\u001b[0m\n",
      "\u001b[0;32m~/miniconda3/envs/main/lib/python3.9/site-packages/xcast-0.2.3-py3.9.egg/xcast/validation/base_validation.py\u001b[0m in \u001b[0;36mcross_validate\u001b[0;34m(MME, X, Y, x_lat_dim, x_lon_dim, x_sample_dim, x_feature_dim, y_lat_dim, y_lon_dim, y_sample_dim, y_feature_dim, window, verbose, ND, lat_chunks, lon_chunks, parallel_in_memory, **kwargs)\u001b[0m\n\u001b[1;32m     26\u001b[0m                 \u001b[0mmme\u001b[0m  \u001b[0;34m=\u001b[0m \u001b[0mMME\u001b[0m\u001b[0;34m(\u001b[0m\u001b[0;34m**\u001b[0m\u001b[0mkwargs\u001b[0m\u001b[0;34m)\u001b[0m\u001b[0;34m\u001b[0m\u001b[0;34m\u001b[0m\u001b[0m\n\u001b[1;32m     27\u001b[0m                 \u001b[0mmme\u001b[0m\u001b[0;34m.\u001b[0m\u001b[0mfit\u001b[0m\u001b[0;34m(\u001b[0m\u001b[0mx_train\u001b[0m\u001b[0;34m,\u001b[0m \u001b[0my_train\u001b[0m\u001b[0;34m,\u001b[0m \u001b[0mx_lat_dim\u001b[0m\u001b[0;34m=\u001b[0m\u001b[0mx_lat_dim\u001b[0m\u001b[0;34m,\u001b[0m \u001b[0mx_lon_dim\u001b[0m\u001b[0;34m=\u001b[0m\u001b[0mx_lon_dim\u001b[0m\u001b[0;34m,\u001b[0m \u001b[0mx_sample_dim\u001b[0m\u001b[0;34m=\u001b[0m\u001b[0mx_sample_dim\u001b[0m\u001b[0;34m,\u001b[0m \u001b[0mx_feature_dim\u001b[0m\u001b[0;34m=\u001b[0m\u001b[0mx_feature_dim\u001b[0m\u001b[0;34m,\u001b[0m \u001b[0my_lat_dim\u001b[0m\u001b[0;34m=\u001b[0m\u001b[0my_lat_dim\u001b[0m\u001b[0;34m,\u001b[0m \u001b[0my_lon_dim\u001b[0m\u001b[0;34m=\u001b[0m\u001b[0my_lon_dim\u001b[0m\u001b[0;34m,\u001b[0m \u001b[0my_sample_dim\u001b[0m\u001b[0;34m=\u001b[0m\u001b[0my_sample_dim\u001b[0m\u001b[0;34m,\u001b[0m \u001b[0my_feature_dim\u001b[0m\u001b[0;34m=\u001b[0m\u001b[0my_feature_dim\u001b[0m\u001b[0;34m,\u001b[0m \u001b[0mlat_chunks\u001b[0m\u001b[0;34m=\u001b[0m\u001b[0mlat_chunks\u001b[0m\u001b[0;34m,\u001b[0m \u001b[0mlon_chunks\u001b[0m\u001b[0;34m=\u001b[0m\u001b[0mlon_chunks\u001b[0m\u001b[0;34m,\u001b[0m  \u001b[0mparallel_in_memory\u001b[0m\u001b[0;34m=\u001b[0m\u001b[0mparallel_in_memory\u001b[0m\u001b[0;34m)\u001b[0m\u001b[0;34m\u001b[0m\u001b[0;34m\u001b[0m\u001b[0m\n\u001b[0;32m---> 28\u001b[0;31m                 \u001b[0mpreds\u001b[0m \u001b[0;34m=\u001b[0m \u001b[0mmme\u001b[0m\u001b[0;34m.\u001b[0m\u001b[0mpredict\u001b[0m\u001b[0;34m(\u001b[0m\u001b[0mx_test\u001b[0m\u001b[0;34m,\u001b[0m \u001b[0mx_lat_dim\u001b[0m\u001b[0;34m=\u001b[0m\u001b[0mx_lat_dim\u001b[0m\u001b[0;34m,\u001b[0m \u001b[0mx_lon_dim\u001b[0m\u001b[0;34m=\u001b[0m\u001b[0mx_lon_dim\u001b[0m\u001b[0;34m,\u001b[0m \u001b[0mx_sample_dim\u001b[0m\u001b[0;34m=\u001b[0m\u001b[0mx_sample_dim\u001b[0m\u001b[0;34m,\u001b[0m \u001b[0mx_feature_dim\u001b[0m\u001b[0;34m=\u001b[0m\u001b[0mx_feature_dim\u001b[0m\u001b[0;34m,\u001b[0m \u001b[0mlat_chunks\u001b[0m\u001b[0;34m=\u001b[0m\u001b[0mlat_chunks\u001b[0m\u001b[0;34m,\u001b[0m \u001b[0mlon_chunks\u001b[0m\u001b[0;34m=\u001b[0m\u001b[0mlon_chunks\u001b[0m\u001b[0;34m,\u001b[0m \u001b[0mparallel_in_memory\u001b[0m\u001b[0;34m=\u001b[0m\u001b[0mparallel_in_memory\u001b[0m\u001b[0;34m)\u001b[0m\u001b[0;34m\u001b[0m\u001b[0;34m\u001b[0m\u001b[0m\n\u001b[0m\u001b[1;32m     29\u001b[0m \u001b[0;34m\u001b[0m\u001b[0m\n\u001b[1;32m     30\u001b[0m                 \u001b[0mcount\u001b[0m \u001b[0;34m+=\u001b[0m \u001b[0;36m1\u001b[0m\u001b[0;34m\u001b[0m\u001b[0;34m\u001b[0m\u001b[0m\n",
      "\u001b[0;32m~/miniconda3/envs/main/lib/python3.9/site-packages/xcast-0.2.3-py3.9.egg/xcast/mme/probabilistic.py\u001b[0m in \u001b[0;36mpredict\u001b[0;34m(self, X, x_lat_dim, x_lon_dim, x_sample_dim, x_feature_dim, lat_chunks, lon_chunks, feat_chunks, samp_chunks, verbose, parallel_in_memory)\u001b[0m\n\u001b[1;32m    282\u001b[0m \u001b[0;34m\u001b[0m\u001b[0m\n\u001b[1;32m    283\u001b[0m         \u001b[0;32mdef\u001b[0m \u001b[0mpredict\u001b[0m\u001b[0;34m(\u001b[0m\u001b[0mself\u001b[0m\u001b[0;34m,\u001b[0m \u001b[0mX\u001b[0m\u001b[0;34m,\u001b[0m \u001b[0mx_lat_dim\u001b[0m\u001b[0;34m=\u001b[0m\u001b[0;34m'Y'\u001b[0m\u001b[0;34m,\u001b[0m \u001b[0mx_lon_dim\u001b[0m\u001b[0;34m=\u001b[0m\u001b[0;34m'X'\u001b[0m\u001b[0;34m,\u001b[0m \u001b[0mx_sample_dim\u001b[0m\u001b[0;34m=\u001b[0m\u001b[0;34m'T'\u001b[0m\u001b[0;34m,\u001b[0m \u001b[0mx_feature_dim\u001b[0m\u001b[0;34m=\u001b[0m\u001b[0;34m'M'\u001b[0m\u001b[0;34m,\u001b[0m \u001b[0mlat_chunks\u001b[0m\u001b[0;34m=\u001b[0m\u001b[0;36m1\u001b[0m\u001b[0;34m,\u001b[0m \u001b[0mlon_chunks\u001b[0m\u001b[0;34m=\u001b[0m\u001b[0;36m1\u001b[0m \u001b[0;34m,\u001b[0m \u001b[0mfeat_chunks\u001b[0m\u001b[0;34m=\u001b[0m\u001b[0;36m1\u001b[0m\u001b[0;34m,\u001b[0m \u001b[0msamp_chunks\u001b[0m\u001b[0;34m=\u001b[0m\u001b[0;36m1\u001b[0m\u001b[0;34m,\u001b[0m \u001b[0mverbose\u001b[0m\u001b[0;34m=\u001b[0m\u001b[0;32mFalse\u001b[0m\u001b[0;34m,\u001b[0m \u001b[0mparallel_in_memory\u001b[0m\u001b[0;34m=\u001b[0m\u001b[0;32mTrue\u001b[0m\u001b[0;34m)\u001b[0m\u001b[0;34m:\u001b[0m\u001b[0;34m\u001b[0m\u001b[0;34m\u001b[0m\u001b[0m\n\u001b[0;32m--> 284\u001b[0;31m                 \u001b[0mX1\u001b[0m \u001b[0;34m=\u001b[0m \u001b[0mX1\u001b[0m\u001b[0;34m.\u001b[0m\u001b[0msel\u001b[0m\u001b[0;34m(\u001b[0m\u001b[0;34m)\u001b[0m \u001b[0;31m#fill_space_mean(X, x_lat_dim, x_lon_dim, x_sample_dim, x_feature_dim)\u001b[0m\u001b[0;34m\u001b[0m\u001b[0;34m\u001b[0m\u001b[0m\n\u001b[0m\u001b[1;32m    285\u001b[0m                 \u001b[0;31m#the following ignores the X1 part, just uses coords, but it actually will use previously saved if override=False, like the default is.\u001b[0m\u001b[0;34m\u001b[0m\u001b[0;34m\u001b[0m\u001b[0m\n\u001b[1;32m    286\u001b[0m                 \u001b[0;32mif\u001b[0m \u001b[0mlen\u001b[0m\u001b[0;34m(\u001b[0m\u001b[0mself\u001b[0m\u001b[0;34m.\u001b[0m\u001b[0mregrid_coords_lat\u001b[0m\u001b[0;34m)\u001b[0m\u001b[0;34m*\u001b[0m\u001b[0mlen\u001b[0m\u001b[0;34m(\u001b[0m\u001b[0mself\u001b[0m\u001b[0;34m.\u001b[0m\u001b[0mregrid_coords_lon\u001b[0m\u001b[0;34m)\u001b[0m \u001b[0;34m>\u001b[0m \u001b[0;36m1\u001b[0m\u001b[0;34m:\u001b[0m\u001b[0;34m\u001b[0m\u001b[0;34m\u001b[0m\u001b[0m\n",
      "\u001b[0;31mUnboundLocalError\u001b[0m: local variable 'X1' referenced before assignment"
     ]
    }
   ],
   "source": [
    "for v in range(len(variables)):\n",
    "    var = variables[v]\n",
    "    for l in range(len(leads)):\n",
    "        lead_low, lead_high = leads[l]\n",
    "\n",
    "        print('{} LOADING HINDCAST DATA FOR {} FOR TARGET {}'.format(dt.datetime.now(), var.upper(), v))\n",
    "        ecmwf = xr.open_dataset('s2s/preprocessed/{}/ecmwf-hcst-{}.nc'.format(fullvar[var],var), chunks='auto').sel(forecast_time=slice(pd.Timestamp(\"1999-01-02\"), pd.Timestamp(\"2010-12-31\")))\n",
    "        eccc = xr.open_dataset('s2s/preprocessed/{}/eccc-hcst-{}.nc'.format(fullvar[var], var), chunks='auto').sel(forecast_time=ecmwf.forecast_time, method='ffill')\n",
    "        ncep = xr.open_dataset('s2s/preprocessed/{}/ncep-hcst-{}.nc'.format(fullvar[var], var), chunks='auto').sel(forecast_time=ecmwf.forecast_time, method='ffill')\n",
    "\n",
    "        ncep.coords['forecast_time'] = ecmwf.coords['forecast_time'].values\n",
    "        eccc.coords['forecast_time'] = ecmwf.coords['forecast_time'].values\n",
    "\n",
    "        ncep_diffs = [pd.Timedelta(x) for x in ecmwf.forecast_time.values - ncep.forecast_time.values] \n",
    "        eccc_diffs = [pd.Timedelta(x) for x in ecmwf.forecast_time.values - eccc.forecast_time.values] \n",
    "\n",
    "        ecmwf = ecmwf.sel(lead_time=slice(pd.Timedelta(days=lead_low), pd.Timedelta(days=lead_high))).mean('lead_time')\n",
    "        eccc = xr.concat([eccc.isel(forecast_time=i).sel(lead_time=slice(pd.Timedelta(days=lead_low)+eccc_diffs[i],pd.Timedelta(days=lead_high)+eccc_diffs[i] )) for i in range(len(eccc_diffs))], 'forecast_time').mean('lead_time') \n",
    "        ncep = xr.concat([ncep.isel(forecast_time=i).sel(lead_time=slice(pd.Timedelta(days=lead_low)+ncep_diffs[i],pd.Timedelta(days=lead_high)+ncep_diffs[i] )) for i in range(len(ncep_diffs))], 'forecast_time').mean('lead_time') \n",
    "\n",
    "        obs = xr.open_dataset('s2s/preprocessed/precip/obs-hcst-{}.nc'.format(var), chunks='auto').sel(forecast_time=ecmwf.forecast_time, method='ffill')\n",
    "        obs.coords['forecast_time'] = ecmwf.coords['forecast_time']\n",
    "        obs_diffs = [pd.Timedelta(x) for x in ecmwf.forecast_time.values - obs.forecast_time.values] \n",
    "        obs = xr.concat([obs.isel(forecast_time=i).sel(lead_time=slice(pd.Timedelta(days=lead_low)+obs_diffs[i],pd.Timedelta(days=lead_high)+obs_diffs[i] )) for i in range(len(obs_diffs))], 'forecast_time').mean('lead_time')\n",
    "\n",
    "\n",
    "        if var == 't2m':\n",
    "            X = xr.concat([ecmwf.t2m, eccc.t2m, ncep.t2m], 'M').assign_coords({'M':[0,1,2]}) # for mean t2m \n",
    "            Y = obs.expand_dims({'M':[0]}).t2m\n",
    "\n",
    "        elif var == 'tp':\n",
    "            X = xr.concat([ecmwf.tp, eccc.tp, ncep.tp], 'M').assign_coords({'M':[0,1,2]}) * (lead_high - lead_low) #for total precip\n",
    "            Y = obs.expand_dims({'M':[0]}).tp * (lead_high - lead_low)\n",
    "\n",
    "        X = X.chunk({'latitude': 11, 'longitude': 24, 'forecast_time': 583, 'M':1}).fillna(1)\n",
    "        Y = Y.chunk({'latitude': 11, 'longitude': 24, 'forecast_time': 583, 'M':1}).fillna(1)\n",
    "\n",
    "        print('{} STARTING POELM CROSS VALIDATION FOR {} FOR TARGET {}'.format(dt.datetime.now(), var.upper(), v))\n",
    "\n",
    "        poelm_hindcasts = xc.cross_validate(xc.pPOELM, X, Y,  x_sample_dim='forecast_time', x_lat_dim='latitude', x_lon_dim='longitude', y_sample_dim='forecast_time', y_lat_dim='latitude', y_lon_dim='longitude', ND=5, hidden_layer_size=5, window=53, verbose=True)\n",
    "        climatology_hcsts = xr.ones_like(poelm_hindcasts.hindcasts) * 0.33\n",
    "        print('\\n{} FINISHED POELM CROSS VALIDATION FOR {} FOR TARGET {}'.format(dt.datetime.now(), var.upper(), v))\n",
    "\n",
    "        print('{} CALCULATING POELM RPSS {} FOR TARGET {}'.format(dt.datetime.now(), var.upper(), v))\n",
    "        oh = xc.RankedTerciles()\n",
    "        oh.fit(Y, x_sample_dim='forecast_time', x_lat_dim='latitude', x_lon_dim='longitude')\n",
    "        YP = oh.transform(Y, x_sample_dim='forecast_time', x_lat_dim='latitude', x_lon_dim='longitude')\n",
    "\n",
    "        poelm_rps = xc.RankProbabilityScore(poelm_hindcasts.hindcasts, YP, x_sample_dim='forecast_time', x_lat_dim='latitude', x_lon_dim='longitude', x_feature_dim='C', y_sample_dim='forecast_time', y_lat_dim='latitude', y_lon_dim='longitude', y_feature_dim='C', rechunk=True, lat_chunks=11, lon_chunks=24, verbose=True)\n",
    "        print('\\n{} FINISHED CALCULATING POELM RPSS {} FOR TARGET {}'.format(dt.datetime.now(), var.upper(), v))\n",
    "\n",
    "        climatology_rps = xc.RankProbabilityScore(xr.ones_like(poelm_hindcasts.hindcasts) * 0.33, YP, x_sample_dim='forecast_time', x_lat_dim='latitude', x_lon_dim='longitude', x_feature_dim='C', y_sample_dim='forecast_time', y_lat_dim='latitude', y_lon_dim='longitude', y_feature_dim='C', rechunk=True, lat_chunks=11, lon_chunks=24, verbose=True)                  \n",
    "        poelm_rpss = (1 - poelm_rps / climatology_rps)\n",
    "        print('{} SAVING POELM HINDCASTS AND RPSS VS CLIMO) {} FOR TARGET {}'.format(dt.datetime.now(), var.upper(), v))\n",
    "        poelm_hindcasts.to_netcdf('s2s/output/POELM_XVAL_HCSTS_ND5_HL5_L1YO_{}_{}-{}.nc'.format(var.upper(), lead_low, lead_high))\n",
    "        poelm_rpss.to_netcdf('s2s/output/POELM_RPSS_VS_CLIMO33_ND5_HL5_L1YO_{}_{}-{}.nc'.format(var.upper(), lead_low, lead_high))\n",
    "\n",
    "        print('{} LOADING FORECAST DATA FOR {} FOR TARGET {}'.format(dt.datetime.now(), var.upper(), v))\n",
    "        ecmwf = xr.open_dataset('s2s/preprocessed/{}/ecmwf-fcst-{}.nc'.format(fullvar[var],var), chunks='auto').sel(forecast_time=slice(pd.Timestamp(\"2020-01-02\"), pd.Timestamp(\"2020-12-31\")))\n",
    "        eccc = xr.open_dataset('s2s/preprocessed/{}/eccc-fcst-{}.nc'.format(fullvar[var], var), chunks='auto').sel(forecast_time=ecmwf.forecast_time, method='ffill')\n",
    "        ncep = xr.open_dataset('s2s/preprocessed/{}/ncep-fcst-{}.nc'.format(fullvar[var], var), chunks='auto').sel(forecast_time=ecmwf.forecast_time, method='ffill')\n",
    "\n",
    "        ncep.coords['forecast_time'] = ecmwf.coords['forecast_time'].values\n",
    "        eccc.coords['forecast_time'] = ecmwf.coords['forecast_time'].values\n",
    "\n",
    "        ncep_diffs = [pd.Timedelta(x) for x in ecmwf.forecast_time.values - ncep.forecast_time.values] \n",
    "        eccc_diffs = [pd.Timedelta(x) for x in ecmwf.forecast_time.values - eccc.forecast_time.values] \n",
    "\n",
    "        ecmwf = ecmwf.sel(lead_time=slice(pd.Timedelta(days=lead_low), pd.Timedelta(days=lead_high))).mean('lead_time')\n",
    "        eccc = xr.concat([eccc.isel(forecast_time=i).sel(lead_time=slice(pd.Timedelta(days=lead_low)+eccc_diffs[i],pd.Timedelta(days=lead_high)+eccc_diffs[i] )) for i in range(len(eccc_diffs))], 'forecast_time').mean('lead_time') \n",
    "        ncep = xr.concat([ncep.isel(forecast_time=i).sel(lead_time=slice(pd.Timedelta(days=lead_low)+ncep_diffs[i],pd.Timedelta(days=lead_high)+ncep_diffs[i] )) for i in range(len(ncep_diffs))], 'forecast_time').mean('lead_time') \n",
    "        \n",
    "        if var == 't2m':\n",
    "            F = xr.concat([ecmwf.t2m, eccc.t2m, ncep.t2m], 'M').assign_coords({'M':[0,1,2]}) # for mean t2m \n",
    "        elif var == 'tp':\n",
    "            F = xr.concat([ecmwf.tp, eccc.tp, ncep.tp], 'M').assign_coords({'M':[0,1,2]}) * (lead_high - lead_low) #for total precip\n",
    "        F = F.chunk({'latitude': 11, 'longitude': 24, 'forecast_time': -1, 'M':1}).fillna(1)\n",
    "        p = xc.pPOELM()\n",
    "        p.fit(X, Y,  x_sample_dim='forecast_time', x_lat_dim='latitude', x_lon_dim='longitude', y_sample_dim='forecast_time', y_lat_dim='latitude', y_lon_dim='longitude', ND=5, hidden_layer_size=5, verbose=True)\n",
    "        forecasts = p.predict(F, x_sample_dim='forecast_time', x_lat_dim='latitude', x_lon_dim='longitude' )\n",
    "        forecasts.to_netcdf('s2s/output/POELM_FCST2020_ND5_HL5_{}_{}-{}.nc'.format(var.upper(), lead_low, lead_high))\n",
    "        \n",
    "        "
   ]
  }
 ],
 "metadata": {
  "kernelspec": {
   "display_name": "Python (main)",
   "language": "python",
   "name": "main"
  },
  "language_info": {
   "codemirror_mode": {
    "name": "ipython",
    "version": 3
   },
   "file_extension": ".py",
   "mimetype": "text/x-python",
   "name": "python",
   "nbconvert_exporter": "python",
   "pygments_lexer": "ipython3",
   "version": "3.9.7"
  }
 },
 "nbformat": 4,
 "nbformat_minor": 5
}
